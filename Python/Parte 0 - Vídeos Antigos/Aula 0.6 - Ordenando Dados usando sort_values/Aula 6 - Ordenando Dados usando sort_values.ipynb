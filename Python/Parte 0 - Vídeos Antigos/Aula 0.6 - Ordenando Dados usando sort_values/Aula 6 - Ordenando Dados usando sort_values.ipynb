{
 "cells": [
  {
   "cell_type": "code",
   "execution_count": null,
   "metadata": {},
   "outputs": [],
   "source": [
    "# https://pandas.pydata.org/pandas-docs/stable/reference/api/pandas.DataFrame.sort_values.html#pandas.DataFrame.sort_values"
   ]
  },
  {
   "cell_type": "code",
   "execution_count": 1,
   "metadata": {},
   "outputs": [],
   "source": [
    "# Importando pandas e abrindo o arquivo\n",
    "import pandas as pd\n",
    "df = pd.read_excel(\"Dados.xlsx\")"
   ]
  },
  {
   "cell_type": "code",
   "execution_count": 2,
   "metadata": {},
   "outputs": [
    {
     "output_type": "execute_result",
     "data": {
      "text/plain": [
       "     BusinessEntityID PersonType  NameStyle Title FirstName MiddleName  \\\n",
       "797              1305         SC          0   NaN        A.  Francesca   \n",
       "221               222         EM          0   NaN  A. Scott        NaN   \n",
       "508               727         SC          0   Mr.     Aaron        NaN   \n",
       "632               975         SC          0   Ms.   Abigail         J.   \n",
       "351               413         SC          0   Mr.      Adam        NaN   \n",
       "\n",
       "     LastName Suffix  EmailPromotion  \n",
       "797  Leonetti    NaN               2  \n",
       "221    Wright    NaN               0  \n",
       "508       Con    NaN               0  \n",
       "632  Gonzalez    NaN               0  \n",
       "351      Barr    NaN               1  "
      ],
      "text/html": "<div>\n<style scoped>\n    .dataframe tbody tr th:only-of-type {\n        vertical-align: middle;\n    }\n\n    .dataframe tbody tr th {\n        vertical-align: top;\n    }\n\n    .dataframe thead th {\n        text-align: right;\n    }\n</style>\n<table border=\"1\" class=\"dataframe\">\n  <thead>\n    <tr style=\"text-align: right;\">\n      <th></th>\n      <th>BusinessEntityID</th>\n      <th>PersonType</th>\n      <th>NameStyle</th>\n      <th>Title</th>\n      <th>FirstName</th>\n      <th>MiddleName</th>\n      <th>LastName</th>\n      <th>Suffix</th>\n      <th>EmailPromotion</th>\n    </tr>\n  </thead>\n  <tbody>\n    <tr>\n      <th>797</th>\n      <td>1305</td>\n      <td>SC</td>\n      <td>0</td>\n      <td>NaN</td>\n      <td>A.</td>\n      <td>Francesca</td>\n      <td>Leonetti</td>\n      <td>NaN</td>\n      <td>2</td>\n    </tr>\n    <tr>\n      <th>221</th>\n      <td>222</td>\n      <td>EM</td>\n      <td>0</td>\n      <td>NaN</td>\n      <td>A. Scott</td>\n      <td>NaN</td>\n      <td>Wright</td>\n      <td>NaN</td>\n      <td>0</td>\n    </tr>\n    <tr>\n      <th>508</th>\n      <td>727</td>\n      <td>SC</td>\n      <td>0</td>\n      <td>Mr.</td>\n      <td>Aaron</td>\n      <td>NaN</td>\n      <td>Con</td>\n      <td>NaN</td>\n      <td>0</td>\n    </tr>\n    <tr>\n      <th>632</th>\n      <td>975</td>\n      <td>SC</td>\n      <td>0</td>\n      <td>Ms.</td>\n      <td>Abigail</td>\n      <td>J.</td>\n      <td>Gonzalez</td>\n      <td>NaN</td>\n      <td>0</td>\n    </tr>\n    <tr>\n      <th>351</th>\n      <td>413</td>\n      <td>SC</td>\n      <td>0</td>\n      <td>Mr.</td>\n      <td>Adam</td>\n      <td>NaN</td>\n      <td>Barr</td>\n      <td>NaN</td>\n      <td>1</td>\n    </tr>\n  </tbody>\n</table>\n</div>"
     },
     "metadata": {},
     "execution_count": 2
    }
   ],
   "source": [
    "# Usando o sort_values\n",
    "#df.sort_values(\"FirstName\", inplace = True)\n",
    "df.sort_values(\"FirstName\").head()"
   ]
  },
  {
   "cell_type": "code",
   "execution_count": 3,
   "metadata": {},
   "outputs": [
    {
     "output_type": "execute_result",
     "data": {
      "text/plain": [
       "     BusinessEntityID PersonType  NameStyle Title FirstName MiddleName  \\\n",
       "797              1305         SC          0   NaN        A.  Francesca   \n",
       "221               222         EM          0   NaN  A. Scott        NaN   \n",
       "508               727         SC          0   Mr.     Aaron        NaN   \n",
       "632               975         SC          0   Ms.   Abigail         J.   \n",
       "351               413         SC          0   Mr.      Adam        NaN   \n",
       "\n",
       "     LastName Suffix  EmailPromotion  \n",
       "797  Leonetti    NaN               2  \n",
       "221    Wright    NaN               0  \n",
       "508       Con    NaN               0  \n",
       "632  Gonzalez    NaN               0  \n",
       "351      Barr    NaN               1  "
      ],
      "text/html": "<div>\n<style scoped>\n    .dataframe tbody tr th:only-of-type {\n        vertical-align: middle;\n    }\n\n    .dataframe tbody tr th {\n        vertical-align: top;\n    }\n\n    .dataframe thead th {\n        text-align: right;\n    }\n</style>\n<table border=\"1\" class=\"dataframe\">\n  <thead>\n    <tr style=\"text-align: right;\">\n      <th></th>\n      <th>BusinessEntityID</th>\n      <th>PersonType</th>\n      <th>NameStyle</th>\n      <th>Title</th>\n      <th>FirstName</th>\n      <th>MiddleName</th>\n      <th>LastName</th>\n      <th>Suffix</th>\n      <th>EmailPromotion</th>\n    </tr>\n  </thead>\n  <tbody>\n    <tr>\n      <th>797</th>\n      <td>1305</td>\n      <td>SC</td>\n      <td>0</td>\n      <td>NaN</td>\n      <td>A.</td>\n      <td>Francesca</td>\n      <td>Leonetti</td>\n      <td>NaN</td>\n      <td>2</td>\n    </tr>\n    <tr>\n      <th>221</th>\n      <td>222</td>\n      <td>EM</td>\n      <td>0</td>\n      <td>NaN</td>\n      <td>A. Scott</td>\n      <td>NaN</td>\n      <td>Wright</td>\n      <td>NaN</td>\n      <td>0</td>\n    </tr>\n    <tr>\n      <th>508</th>\n      <td>727</td>\n      <td>SC</td>\n      <td>0</td>\n      <td>Mr.</td>\n      <td>Aaron</td>\n      <td>NaN</td>\n      <td>Con</td>\n      <td>NaN</td>\n      <td>0</td>\n    </tr>\n    <tr>\n      <th>632</th>\n      <td>975</td>\n      <td>SC</td>\n      <td>0</td>\n      <td>Ms.</td>\n      <td>Abigail</td>\n      <td>J.</td>\n      <td>Gonzalez</td>\n      <td>NaN</td>\n      <td>0</td>\n    </tr>\n    <tr>\n      <th>351</th>\n      <td>413</td>\n      <td>SC</td>\n      <td>0</td>\n      <td>Mr.</td>\n      <td>Adam</td>\n      <td>NaN</td>\n      <td>Barr</td>\n      <td>NaN</td>\n      <td>1</td>\n    </tr>\n  </tbody>\n</table>\n</div>"
     },
     "metadata": {},
     "execution_count": 3
    }
   ],
   "source": [
    "# Ordenando por mais de uma coluna\n",
    "#df.sort_values(by = [\"FirstName\", \"LastName\"]).head()\n",
    "df.sort_values(by = \"FirstName\").head()"
   ]
  },
  {
   "cell_type": "code",
   "execution_count": 4,
   "metadata": {},
   "outputs": [
    {
     "output_type": "execute_result",
     "data": {
      "text/plain": [
       "     BusinessEntityID PersonType  NameStyle Title FirstName MiddleName  \\\n",
       "901              1513         VC          0   Mr.     Zheng        NaN   \n",
       "101               102         EM          0   NaN     Zheng          W   \n",
       "216               217         EM          0   NaN    Zainal          T   \n",
       "186               187         EM          0   NaN    Yvonne          S   \n",
       "862              1435         SC          0   Ms.    Yvonne        NaN   \n",
       "\n",
       "    LastName Suffix  EmailPromotion  \n",
       "901       Mu    NaN               0  \n",
       "101       Mu    NaN               0  \n",
       "216   Arifin    NaN               1  \n",
       "186    McKay    NaN               0  \n",
       "862    McKay    NaN               0  "
      ],
      "text/html": "<div>\n<style scoped>\n    .dataframe tbody tr th:only-of-type {\n        vertical-align: middle;\n    }\n\n    .dataframe tbody tr th {\n        vertical-align: top;\n    }\n\n    .dataframe thead th {\n        text-align: right;\n    }\n</style>\n<table border=\"1\" class=\"dataframe\">\n  <thead>\n    <tr style=\"text-align: right;\">\n      <th></th>\n      <th>BusinessEntityID</th>\n      <th>PersonType</th>\n      <th>NameStyle</th>\n      <th>Title</th>\n      <th>FirstName</th>\n      <th>MiddleName</th>\n      <th>LastName</th>\n      <th>Suffix</th>\n      <th>EmailPromotion</th>\n    </tr>\n  </thead>\n  <tbody>\n    <tr>\n      <th>901</th>\n      <td>1513</td>\n      <td>VC</td>\n      <td>0</td>\n      <td>Mr.</td>\n      <td>Zheng</td>\n      <td>NaN</td>\n      <td>Mu</td>\n      <td>NaN</td>\n      <td>0</td>\n    </tr>\n    <tr>\n      <th>101</th>\n      <td>102</td>\n      <td>EM</td>\n      <td>0</td>\n      <td>NaN</td>\n      <td>Zheng</td>\n      <td>W</td>\n      <td>Mu</td>\n      <td>NaN</td>\n      <td>0</td>\n    </tr>\n    <tr>\n      <th>216</th>\n      <td>217</td>\n      <td>EM</td>\n      <td>0</td>\n      <td>NaN</td>\n      <td>Zainal</td>\n      <td>T</td>\n      <td>Arifin</td>\n      <td>NaN</td>\n      <td>1</td>\n    </tr>\n    <tr>\n      <th>186</th>\n      <td>187</td>\n      <td>EM</td>\n      <td>0</td>\n      <td>NaN</td>\n      <td>Yvonne</td>\n      <td>S</td>\n      <td>McKay</td>\n      <td>NaN</td>\n      <td>0</td>\n    </tr>\n    <tr>\n      <th>862</th>\n      <td>1435</td>\n      <td>SC</td>\n      <td>0</td>\n      <td>Ms.</td>\n      <td>Yvonne</td>\n      <td>NaN</td>\n      <td>McKay</td>\n      <td>NaN</td>\n      <td>0</td>\n    </tr>\n  </tbody>\n</table>\n</div>"
     },
     "metadata": {},
     "execution_count": 4
    }
   ],
   "source": [
    "df.sort_values(\"FirstName\", ascending=False).head()"
   ]
  },
  {
   "cell_type": "code",
   "execution_count": 16,
   "metadata": {},
   "outputs": [
    {
     "output_type": "execute_result",
     "data": {
      "text/plain": [
       "   BusinessEntityID PersonType  NameStyle Title FirstName MiddleName  \\\n",
       "0                 1         EM          0   NaN       Ken          J   \n",
       "1                 2         EM          0   NaN     Terri        Lee   \n",
       "2                 3         EM          0   NaN   Roberto        NaN   \n",
       "3                 4         EM          0   NaN       Rob        NaN   \n",
       "4                 5         EM          0   Ms.      Gail          A   \n",
       "\n",
       "     LastName Suffix  EmailPromotion  \n",
       "0     Sánchez    NaN               0  \n",
       "1       Duffy    NaN               1  \n",
       "2  Tamburello    NaN               0  \n",
       "3     Walters    NaN               0  \n",
       "4    Erickson    NaN               0  "
      ],
      "text/html": "<div>\n<style scoped>\n    .dataframe tbody tr th:only-of-type {\n        vertical-align: middle;\n    }\n\n    .dataframe tbody tr th {\n        vertical-align: top;\n    }\n\n    .dataframe thead th {\n        text-align: right;\n    }\n</style>\n<table border=\"1\" class=\"dataframe\">\n  <thead>\n    <tr style=\"text-align: right;\">\n      <th></th>\n      <th>BusinessEntityID</th>\n      <th>PersonType</th>\n      <th>NameStyle</th>\n      <th>Title</th>\n      <th>FirstName</th>\n      <th>MiddleName</th>\n      <th>LastName</th>\n      <th>Suffix</th>\n      <th>EmailPromotion</th>\n    </tr>\n  </thead>\n  <tbody>\n    <tr>\n      <th>0</th>\n      <td>1</td>\n      <td>EM</td>\n      <td>0</td>\n      <td>NaN</td>\n      <td>Ken</td>\n      <td>J</td>\n      <td>Sánchez</td>\n      <td>NaN</td>\n      <td>0</td>\n    </tr>\n    <tr>\n      <th>1</th>\n      <td>2</td>\n      <td>EM</td>\n      <td>0</td>\n      <td>NaN</td>\n      <td>Terri</td>\n      <td>Lee</td>\n      <td>Duffy</td>\n      <td>NaN</td>\n      <td>1</td>\n    </tr>\n    <tr>\n      <th>2</th>\n      <td>3</td>\n      <td>EM</td>\n      <td>0</td>\n      <td>NaN</td>\n      <td>Roberto</td>\n      <td>NaN</td>\n      <td>Tamburello</td>\n      <td>NaN</td>\n      <td>0</td>\n    </tr>\n    <tr>\n      <th>3</th>\n      <td>4</td>\n      <td>EM</td>\n      <td>0</td>\n      <td>NaN</td>\n      <td>Rob</td>\n      <td>NaN</td>\n      <td>Walters</td>\n      <td>NaN</td>\n      <td>0</td>\n    </tr>\n    <tr>\n      <th>4</th>\n      <td>5</td>\n      <td>EM</td>\n      <td>0</td>\n      <td>Ms.</td>\n      <td>Gail</td>\n      <td>A</td>\n      <td>Erickson</td>\n      <td>NaN</td>\n      <td>0</td>\n    </tr>\n  </tbody>\n</table>\n</div>"
     },
     "metadata": {},
     "execution_count": 16
    }
   ],
   "source": [
    "df.sort_values([\"FirstName\", \"LastName\"], ascending=[True, True]).head()"
   ]
  },
  {
   "cell_type": "code",
   "execution_count": 6,
   "metadata": {},
   "outputs": [
    {
     "output_type": "execute_result",
     "data": {
      "text/plain": [
       "     BusinessEntityID PersonType  NameStyle Title FirstName MiddleName  \\\n",
       "797              1305         SC          0   NaN        A.  Francesca   \n",
       "221               222         EM          0   NaN  A. Scott        NaN   \n",
       "508               727         SC          0   Mr.     Aaron        NaN   \n",
       "632               975         SC          0   Ms.   Abigail         J.   \n",
       "351               413         SC          0   Mr.      Adam        NaN   \n",
       "\n",
       "     LastName Suffix  EmailPromotion  \n",
       "797  Leonetti    NaN               2  \n",
       "221    Wright    NaN               0  \n",
       "508       Con    NaN               0  \n",
       "632  Gonzalez    NaN               0  \n",
       "351      Barr    NaN               1  "
      ],
      "text/html": "<div>\n<style scoped>\n    .dataframe tbody tr th:only-of-type {\n        vertical-align: middle;\n    }\n\n    .dataframe tbody tr th {\n        vertical-align: top;\n    }\n\n    .dataframe thead th {\n        text-align: right;\n    }\n</style>\n<table border=\"1\" class=\"dataframe\">\n  <thead>\n    <tr style=\"text-align: right;\">\n      <th></th>\n      <th>BusinessEntityID</th>\n      <th>PersonType</th>\n      <th>NameStyle</th>\n      <th>Title</th>\n      <th>FirstName</th>\n      <th>MiddleName</th>\n      <th>LastName</th>\n      <th>Suffix</th>\n      <th>EmailPromotion</th>\n    </tr>\n  </thead>\n  <tbody>\n    <tr>\n      <th>797</th>\n      <td>1305</td>\n      <td>SC</td>\n      <td>0</td>\n      <td>NaN</td>\n      <td>A.</td>\n      <td>Francesca</td>\n      <td>Leonetti</td>\n      <td>NaN</td>\n      <td>2</td>\n    </tr>\n    <tr>\n      <th>221</th>\n      <td>222</td>\n      <td>EM</td>\n      <td>0</td>\n      <td>NaN</td>\n      <td>A. Scott</td>\n      <td>NaN</td>\n      <td>Wright</td>\n      <td>NaN</td>\n      <td>0</td>\n    </tr>\n    <tr>\n      <th>508</th>\n      <td>727</td>\n      <td>SC</td>\n      <td>0</td>\n      <td>Mr.</td>\n      <td>Aaron</td>\n      <td>NaN</td>\n      <td>Con</td>\n      <td>NaN</td>\n      <td>0</td>\n    </tr>\n    <tr>\n      <th>632</th>\n      <td>975</td>\n      <td>SC</td>\n      <td>0</td>\n      <td>Ms.</td>\n      <td>Abigail</td>\n      <td>J.</td>\n      <td>Gonzalez</td>\n      <td>NaN</td>\n      <td>0</td>\n    </tr>\n    <tr>\n      <th>351</th>\n      <td>413</td>\n      <td>SC</td>\n      <td>0</td>\n      <td>Mr.</td>\n      <td>Adam</td>\n      <td>NaN</td>\n      <td>Barr</td>\n      <td>NaN</td>\n      <td>1</td>\n    </tr>\n  </tbody>\n</table>\n</div>"
     },
     "metadata": {},
     "execution_count": 6
    }
   ],
   "source": [
    "colunas = [\"FirstName\", \"LastName\"]\n",
    "ordenacao = [\"True\", \"False\"]\n",
    "\n",
    "df.sort_values(by = colunas, ascending = ordenacao).head()"
   ]
  },
  {
   "cell_type": "code",
   "execution_count": 14,
   "metadata": {},
   "outputs": [
    {
     "data": {
      "text/html": [
       "<div>\n",
       "<style scoped>\n",
       "    .dataframe tbody tr th:only-of-type {\n",
       "        vertical-align: middle;\n",
       "    }\n",
       "\n",
       "    .dataframe tbody tr th {\n",
       "        vertical-align: top;\n",
       "    }\n",
       "\n",
       "    .dataframe thead th {\n",
       "        text-align: right;\n",
       "    }\n",
       "</style>\n",
       "<table border=\"1\" class=\"dataframe\">\n",
       "  <thead>\n",
       "    <tr style=\"text-align: right;\">\n",
       "      <th></th>\n",
       "      <th>BusinessEntityID</th>\n",
       "      <th>PersonType</th>\n",
       "      <th>NameStyle</th>\n",
       "      <th>Title</th>\n",
       "      <th>FirstName</th>\n",
       "      <th>MiddleName</th>\n",
       "      <th>LastName</th>\n",
       "      <th>Suffix</th>\n",
       "      <th>EmailPromotion</th>\n",
       "    </tr>\n",
       "  </thead>\n",
       "  <tbody>\n",
       "    <tr>\n",
       "      <th>0</th>\n",
       "      <td>1</td>\n",
       "      <td>EM</td>\n",
       "      <td>0</td>\n",
       "      <td>NaN</td>\n",
       "      <td>Ken</td>\n",
       "      <td>J</td>\n",
       "      <td>Sánchez</td>\n",
       "      <td>NaN</td>\n",
       "      <td>0</td>\n",
       "    </tr>\n",
       "    <tr>\n",
       "      <th>1</th>\n",
       "      <td>2</td>\n",
       "      <td>EM</td>\n",
       "      <td>0</td>\n",
       "      <td>NaN</td>\n",
       "      <td>Terri</td>\n",
       "      <td>Lee</td>\n",
       "      <td>Duffy</td>\n",
       "      <td>NaN</td>\n",
       "      <td>1</td>\n",
       "    </tr>\n",
       "    <tr>\n",
       "      <th>2</th>\n",
       "      <td>3</td>\n",
       "      <td>EM</td>\n",
       "      <td>0</td>\n",
       "      <td>NaN</td>\n",
       "      <td>Roberto</td>\n",
       "      <td>NaN</td>\n",
       "      <td>Tamburello</td>\n",
       "      <td>NaN</td>\n",
       "      <td>0</td>\n",
       "    </tr>\n",
       "    <tr>\n",
       "      <th>3</th>\n",
       "      <td>4</td>\n",
       "      <td>EM</td>\n",
       "      <td>0</td>\n",
       "      <td>NaN</td>\n",
       "      <td>Rob</td>\n",
       "      <td>NaN</td>\n",
       "      <td>Walters</td>\n",
       "      <td>NaN</td>\n",
       "      <td>0</td>\n",
       "    </tr>\n",
       "    <tr>\n",
       "      <th>4</th>\n",
       "      <td>5</td>\n",
       "      <td>EM</td>\n",
       "      <td>0</td>\n",
       "      <td>Ms.</td>\n",
       "      <td>Gail</td>\n",
       "      <td>A</td>\n",
       "      <td>Erickson</td>\n",
       "      <td>NaN</td>\n",
       "      <td>0</td>\n",
       "    </tr>\n",
       "  </tbody>\n",
       "</table>\n",
       "</div>"
      ],
      "text/plain": [
       "   BusinessEntityID PersonType  NameStyle Title FirstName MiddleName  \\\n",
       "0                 1         EM          0   NaN       Ken          J   \n",
       "1                 2         EM          0   NaN     Terri        Lee   \n",
       "2                 3         EM          0   NaN   Roberto        NaN   \n",
       "3                 4         EM          0   NaN       Rob        NaN   \n",
       "4                 5         EM          0   Ms.      Gail          A   \n",
       "\n",
       "     LastName Suffix  EmailPromotion  \n",
       "0     Sánchez    NaN               0  \n",
       "1       Duffy    NaN               1  \n",
       "2  Tamburello    NaN               0  \n",
       "3     Walters    NaN               0  \n",
       "4    Erickson    NaN               0  "
      ]
     },
     "execution_count": 14,
     "metadata": {},
     "output_type": "execute_result"
    }
   ],
   "source": [
    "df.head()"
   ]
  }
 ],
 "metadata": {
  "kernelspec": {
   "display_name": "Python 3",
   "language": "python",
   "name": "python3"
  },
  "language_info": {
   "codemirror_mode": {
    "name": "ipython",
    "version": 3
   },
   "file_extension": ".py",
   "mimetype": "text/x-python",
   "name": "python",
   "nbconvert_exporter": "python",
   "pygments_lexer": "ipython3",
   "version": "3.8.3-final"
  }
 },
 "nbformat": 4,
 "nbformat_minor": 2
}