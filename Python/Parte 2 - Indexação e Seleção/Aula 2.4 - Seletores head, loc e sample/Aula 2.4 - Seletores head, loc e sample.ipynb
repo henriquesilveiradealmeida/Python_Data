{
 "metadata": {
  "language_info": {
   "codemirror_mode": {
    "name": "ipython",
    "version": 3
   },
   "file_extension": ".py",
   "mimetype": "text/x-python",
   "name": "python",
   "nbconvert_exporter": "python",
   "pygments_lexer": "ipython3",
   "version": "3.8.5-final"
  },
  "orig_nbformat": 2,
  "kernelspec": {
   "name": "python3",
   "display_name": "Python 3.8.5 64-bit (conda)",
   "metadata": {
    "interpreter": {
     "hash": "b3ba2566441a7c06988d0923437866b63cedc61552a5af99d1f4fb67d367b25f"
    }
   }
  }
 },
 "nbformat": 4,
 "nbformat_minor": 2,
 "cells": [
  {
   "cell_type": "code",
   "execution_count": 1,
   "metadata": {},
   "outputs": [],
   "source": [
    "# Adicionar o caminho para importar os métodos em funcoes_curso, ao qual está\n",
    "#duas pastas acima\n",
    "import sys\n",
    "sys.path.append(\"../../\")"
   ]
  },
  {
   "cell_type": "code",
   "execution_count": 3,
   "metadata": {},
   "outputs": [],
   "source": [
    "#Importando o pandas e o numpy\n",
    "import pandas as pd \n",
    "import numpy as np\n",
    "# Só funcionará se rodar o primeiro boco de código\n",
    "from funcoes_curso.funcoes import importar_base"
   ]
  },
  {
   "cell_type": "code",
   "execution_count": 3,
   "metadata": {},
   "outputs": [],
   "source": [
    "# Importando os dados houses_to_rent.csv\n",
    "alugueis = importar_base(\"houses_to_rent.csv\")"
   ]
  },
  {
   "cell_type": "code",
   "execution_count": 14,
   "metadata": {},
   "outputs": [
    {
     "output_type": "execute_result",
     "data": {
      "text/plain": [
       "pandas.core.frame.DataFrame"
      ]
     },
     "metadata": {},
     "execution_count": 14
    }
   ],
   "source": [
    "# Usando head\n",
    "type(alugueis.head(1))"
   ]
  },
  {
   "cell_type": "code",
   "execution_count": 25,
   "metadata": {},
   "outputs": [],
   "source": [
    "# Comparando seleção do head com loc\n",
    "x = alugueis.loc[:20]"
   ]
  },
  {
   "cell_type": "code",
   "execution_count": 28,
   "metadata": {},
   "outputs": [
    {
     "output_type": "execute_result",
     "data": {
      "text/plain": [
       "   Unnamed: 0  city  area  rooms  bathroom  parking spaces floor animal  \\\n",
       "0           0     1   240      3         3               4     -  acept   \n",
       "\n",
       "   furniture  hoa rent amount property tax fire insurance    total  \n",
       "0  furnished  R$0     R$8,000      R$1,000          R$121  R$9,121  "
      ],
      "text/html": "<div>\n<style scoped>\n    .dataframe tbody tr th:only-of-type {\n        vertical-align: middle;\n    }\n\n    .dataframe tbody tr th {\n        vertical-align: top;\n    }\n\n    .dataframe thead th {\n        text-align: right;\n    }\n</style>\n<table border=\"1\" class=\"dataframe\">\n  <thead>\n    <tr style=\"text-align: right;\">\n      <th></th>\n      <th>Unnamed: 0</th>\n      <th>city</th>\n      <th>area</th>\n      <th>rooms</th>\n      <th>bathroom</th>\n      <th>parking spaces</th>\n      <th>floor</th>\n      <th>animal</th>\n      <th>furniture</th>\n      <th>hoa</th>\n      <th>rent amount</th>\n      <th>property tax</th>\n      <th>fire insurance</th>\n      <th>total</th>\n    </tr>\n  </thead>\n  <tbody>\n    <tr>\n      <th>0</th>\n      <td>0</td>\n      <td>1</td>\n      <td>240</td>\n      <td>3</td>\n      <td>3</td>\n      <td>4</td>\n      <td>-</td>\n      <td>acept</td>\n      <td>furnished</td>\n      <td>R$0</td>\n      <td>R$8,000</td>\n      <td>R$1,000</td>\n      <td>R$121</td>\n      <td>R$9,121</td>\n    </tr>\n  </tbody>\n</table>\n</div>"
     },
     "metadata": {},
     "execution_count": 28
    }
   ],
   "source": [
    "x.head(5).head(1)"
   ]
  },
  {
   "cell_type": "code",
   "execution_count": 34,
   "metadata": {},
   "outputs": [
    {
     "output_type": "execute_result",
     "data": {
      "text/plain": [
       "50     183\n",
       "60     157\n",
       "70     155\n",
       "100    151\n",
       "200    135\n",
       "      ... \n",
       "465      1\n",
       "445      1\n",
       "417      1\n",
       "385      1\n",
       "12       1\n",
       "Name: area, Length: 435, dtype: int64"
      ]
     },
     "metadata": {},
     "execution_count": 34
    }
   ],
   "source": [
    "# Contando valores usando value_counts\n",
    "alugueis.area.value_counts()"
   ]
  },
  {
   "cell_type": "code",
   "execution_count": 62,
   "metadata": {},
   "outputs": [
    {
     "output_type": "execute_result",
     "data": {
      "text/plain": [
       "      Unnamed: 0  city  area  rooms  bathroom  parking spaces floor  \\\n",
       "4016        4016     0   135      2         2               2     2   \n",
       "1511        1511     1    93      3         2               2     7   \n",
       "1941        1941     0   297      4         6               2     3   \n",
       "3333        3333     1    25      1         1               0     2   \n",
       "2894        2894     0    87      3         2               1    12   \n",
       "\n",
       "         animal      furniture      hoa rent amount property tax  \\\n",
       "4016      acept  not furnished  R$1,175     R$3,800        R$255   \n",
       "1511      acept  not furnished    R$750     R$2,200         R$84   \n",
       "1941      acept  not furnished  R$2,800     R$2,800        R$433   \n",
       "3333  not acept  not furnished    R$160       R$620         R$15   \n",
       "2894      acept      furnished    R$870     R$1,450        R$100   \n",
       "\n",
       "     fire insurance    total  \n",
       "4016           R$49  R$5,279  \n",
       "1511           R$28  R$3,062  \n",
       "1941           R$36  R$6,069  \n",
       "3333            R$8    R$803  \n",
       "2894           R$19  R$2,439  "
      ],
      "text/html": "<div>\n<style scoped>\n    .dataframe tbody tr th:only-of-type {\n        vertical-align: middle;\n    }\n\n    .dataframe tbody tr th {\n        vertical-align: top;\n    }\n\n    .dataframe thead th {\n        text-align: right;\n    }\n</style>\n<table border=\"1\" class=\"dataframe\">\n  <thead>\n    <tr style=\"text-align: right;\">\n      <th></th>\n      <th>Unnamed: 0</th>\n      <th>city</th>\n      <th>area</th>\n      <th>rooms</th>\n      <th>bathroom</th>\n      <th>parking spaces</th>\n      <th>floor</th>\n      <th>animal</th>\n      <th>furniture</th>\n      <th>hoa</th>\n      <th>rent amount</th>\n      <th>property tax</th>\n      <th>fire insurance</th>\n      <th>total</th>\n    </tr>\n  </thead>\n  <tbody>\n    <tr>\n      <th>4016</th>\n      <td>4016</td>\n      <td>0</td>\n      <td>135</td>\n      <td>2</td>\n      <td>2</td>\n      <td>2</td>\n      <td>2</td>\n      <td>acept</td>\n      <td>not furnished</td>\n      <td>R$1,175</td>\n      <td>R$3,800</td>\n      <td>R$255</td>\n      <td>R$49</td>\n      <td>R$5,279</td>\n    </tr>\n    <tr>\n      <th>1511</th>\n      <td>1511</td>\n      <td>1</td>\n      <td>93</td>\n      <td>3</td>\n      <td>2</td>\n      <td>2</td>\n      <td>7</td>\n      <td>acept</td>\n      <td>not furnished</td>\n      <td>R$750</td>\n      <td>R$2,200</td>\n      <td>R$84</td>\n      <td>R$28</td>\n      <td>R$3,062</td>\n    </tr>\n    <tr>\n      <th>1941</th>\n      <td>1941</td>\n      <td>0</td>\n      <td>297</td>\n      <td>4</td>\n      <td>6</td>\n      <td>2</td>\n      <td>3</td>\n      <td>acept</td>\n      <td>not furnished</td>\n      <td>R$2,800</td>\n      <td>R$2,800</td>\n      <td>R$433</td>\n      <td>R$36</td>\n      <td>R$6,069</td>\n    </tr>\n    <tr>\n      <th>3333</th>\n      <td>3333</td>\n      <td>1</td>\n      <td>25</td>\n      <td>1</td>\n      <td>1</td>\n      <td>0</td>\n      <td>2</td>\n      <td>not acept</td>\n      <td>not furnished</td>\n      <td>R$160</td>\n      <td>R$620</td>\n      <td>R$15</td>\n      <td>R$8</td>\n      <td>R$803</td>\n    </tr>\n    <tr>\n      <th>2894</th>\n      <td>2894</td>\n      <td>0</td>\n      <td>87</td>\n      <td>3</td>\n      <td>2</td>\n      <td>1</td>\n      <td>12</td>\n      <td>acept</td>\n      <td>furnished</td>\n      <td>R$870</td>\n      <td>R$1,450</td>\n      <td>R$100</td>\n      <td>R$19</td>\n      <td>R$2,439</td>\n    </tr>\n  </tbody>\n</table>\n</div>"
     },
     "metadata": {},
     "execution_count": 62
    }
   ],
   "source": [
    "# Selecionando usando sample\n",
    "alugueis.sample(n=5, random_state=438)"
   ]
  }
 ]
}