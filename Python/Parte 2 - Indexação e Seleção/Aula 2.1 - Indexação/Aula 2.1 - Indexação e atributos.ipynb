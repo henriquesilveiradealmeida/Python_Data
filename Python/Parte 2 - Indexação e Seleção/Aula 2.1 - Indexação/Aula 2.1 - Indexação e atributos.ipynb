{
 "metadata": {
  "language_info": {
   "codemirror_mode": {
    "name": "ipython",
    "version": 3
   },
   "file_extension": ".py",
   "mimetype": "text/x-python",
   "name": "python",
   "nbconvert_exporter": "python",
   "pygments_lexer": "ipython3",
   "version": "3.8.3-final"
  },
  "orig_nbformat": 2,
  "kernelspec": {
   "name": "python3",
   "display_name": "Python 3.8.3 64-bit ('Programas': virtualenv)",
   "metadata": {
    "interpreter": {
     "hash": "1a9ef878df266b36eb8b830cb4a51d6debca365e0a1e8d1c1479641372ffe183"
    }
   }
  }
 },
 "nbformat": 4,
 "nbformat_minor": 2,
 "cells": [
  {
   "cell_type": "code",
   "execution_count": 1,
   "metadata": {},
   "outputs": [],
   "source": [
    "# Importando as bibliotecas\n",
    "import numpy as np\n",
    "import pandas as pd"
   ]
  },
  {
   "cell_type": "code",
   "execution_count": 2,
   "metadata": {},
   "outputs": [],
   "source": [
    "# Indexação de linhas (números, letras e datas)\n",
    "# [5,8)\n",
    "# pd.DataFrame(np.random.randn(3, 3), index = range(5, 8), columns=[*\"ABC\"])\n",
    "\n",
    "datas = pd.date_range('08/01/2020', periods = 3)\n",
    "\n",
    "d = pd.DataFrame(np.random.randn(3, 3), index = datas, columns=[*\"ABC\"])\n"
   ]
  },
  {
   "cell_type": "code",
   "execution_count": 3,
   "metadata": {},
   "outputs": [],
   "source": [
    "#d.index = [1, 2, 5]\n",
    "d.index = [\"Churros\", \"Banana\", \"Jailson\"]"
   ]
  },
  {
   "cell_type": "code",
   "execution_count": 4,
   "metadata": {},
   "outputs": [
    {
     "output_type": "execute_result",
     "data": {
      "text/plain": [
       "                A         B         C\n",
       "Churros -1.026811  0.255624 -0.961540\n",
       "Banana   0.905641 -0.718068  1.239565\n",
       "Jailson -0.081890  0.247828  0.608888"
      ],
      "text/html": "<div>\n<style scoped>\n    .dataframe tbody tr th:only-of-type {\n        vertical-align: middle;\n    }\n\n    .dataframe tbody tr th {\n        vertical-align: top;\n    }\n\n    .dataframe thead th {\n        text-align: right;\n    }\n</style>\n<table border=\"1\" class=\"dataframe\">\n  <thead>\n    <tr style=\"text-align: right;\">\n      <th></th>\n      <th>A</th>\n      <th>B</th>\n      <th>C</th>\n    </tr>\n  </thead>\n  <tbody>\n    <tr>\n      <th>Churros</th>\n      <td>-1.026811</td>\n      <td>0.255624</td>\n      <td>-0.961540</td>\n    </tr>\n    <tr>\n      <th>Banana</th>\n      <td>0.905641</td>\n      <td>-0.718068</td>\n      <td>1.239565</td>\n    </tr>\n    <tr>\n      <th>Jailson</th>\n      <td>-0.081890</td>\n      <td>0.247828</td>\n      <td>0.608888</td>\n    </tr>\n  </tbody>\n</table>\n</div>"
     },
     "metadata": {},
     "execution_count": 4
    }
   ],
   "source": [
    "d"
   ]
  },
  {
   "cell_type": "code",
   "execution_count": 5,
   "metadata": {},
   "outputs": [
    {
     "output_type": "execute_result",
     "data": {
      "text/plain": [
       "Churros   -1.026811\n",
       "Banana     0.905641\n",
       "Jailson   -0.081890\n",
       "Name: A, dtype: float64"
      ]
     },
     "metadata": {},
     "execution_count": 5
    }
   ],
   "source": [
    "# Colunas como atributos\n",
    "#type(d[[\"A\"]])\n",
    "d.A"
   ]
  }
 ]
}