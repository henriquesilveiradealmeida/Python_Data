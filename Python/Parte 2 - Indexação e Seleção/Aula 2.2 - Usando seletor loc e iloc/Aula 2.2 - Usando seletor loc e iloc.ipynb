{
 "metadata": {
  "language_info": {
   "codemirror_mode": {
    "name": "ipython",
    "version": 3
   },
   "file_extension": ".py",
   "mimetype": "text/x-python",
   "name": "python",
   "nbconvert_exporter": "python",
   "pygments_lexer": "ipython3",
   "version": "3.8.3-final"
  },
  "orig_nbformat": 2,
  "kernelspec": {
   "name": "python_defaultSpec_1597777620944",
   "display_name": "Python 3.8.3 64-bit ('base': conda)"
  }
 },
 "nbformat": 4,
 "nbformat_minor": 2,
 "cells": [
  {
   "cell_type": "code",
   "execution_count": 2,
   "metadata": {},
   "outputs": [],
   "source": [
    "#Importação\n",
    "import pandas as pd \n",
    "import numpy as np"
   ]
  },
  {
   "cell_type": "code",
   "execution_count": 3,
   "metadata": {},
   "outputs": [],
   "source": [
    "dados = pd.DataFrame(np.random.randn(5, 5), columns=[*\"ABCDE\"], index = [*\"abcde\"])"
   ]
  },
  {
   "cell_type": "code",
   "execution_count": 4,
   "metadata": {},
   "outputs": [
    {
     "output_type": "execute_result",
     "data": {
      "text/plain": "          A         B         C         D         E\na  1.251365  0.320908  1.334427 -1.016373  0.464360\nb  0.429022  0.726723 -0.857913  0.742353  0.575248\nc  0.033321  0.308466 -1.099397 -0.160390 -0.532632\nd -1.271012 -0.571779  0.736862  0.268666  0.641587\ne -1.060826  0.063456  0.910520  0.297049 -0.245962",
      "text/html": "<div>\n<style scoped>\n    .dataframe tbody tr th:only-of-type {\n        vertical-align: middle;\n    }\n\n    .dataframe tbody tr th {\n        vertical-align: top;\n    }\n\n    .dataframe thead th {\n        text-align: right;\n    }\n</style>\n<table border=\"1\" class=\"dataframe\">\n  <thead>\n    <tr style=\"text-align: right;\">\n      <th></th>\n      <th>A</th>\n      <th>B</th>\n      <th>C</th>\n      <th>D</th>\n      <th>E</th>\n    </tr>\n  </thead>\n  <tbody>\n    <tr>\n      <th>a</th>\n      <td>1.251365</td>\n      <td>0.320908</td>\n      <td>1.334427</td>\n      <td>-1.016373</td>\n      <td>0.464360</td>\n    </tr>\n    <tr>\n      <th>b</th>\n      <td>0.429022</td>\n      <td>0.726723</td>\n      <td>-0.857913</td>\n      <td>0.742353</td>\n      <td>0.575248</td>\n    </tr>\n    <tr>\n      <th>c</th>\n      <td>0.033321</td>\n      <td>0.308466</td>\n      <td>-1.099397</td>\n      <td>-0.160390</td>\n      <td>-0.532632</td>\n    </tr>\n    <tr>\n      <th>d</th>\n      <td>-1.271012</td>\n      <td>-0.571779</td>\n      <td>0.736862</td>\n      <td>0.268666</td>\n      <td>0.641587</td>\n    </tr>\n    <tr>\n      <th>e</th>\n      <td>-1.060826</td>\n      <td>0.063456</td>\n      <td>0.910520</td>\n      <td>0.297049</td>\n      <td>-0.245962</td>\n    </tr>\n  </tbody>\n</table>\n</div>"
     },
     "metadata": {},
     "execution_count": 4
    }
   ],
   "source": [
    "dados"
   ]
  },
  {
   "cell_type": "code",
   "execution_count": 19,
   "metadata": {},
   "outputs": [
    {
     "output_type": "execute_result",
     "data": {
      "text/plain": "          A         B         C\nb  0.429022  0.726723 -0.857913\nc  0.033321  0.308466 -1.099397\nd -1.271012 -0.571779  0.736862\ne -1.060826  0.063456  0.910520",
      "text/html": "<div>\n<style scoped>\n    .dataframe tbody tr th:only-of-type {\n        vertical-align: middle;\n    }\n\n    .dataframe tbody tr th {\n        vertical-align: top;\n    }\n\n    .dataframe thead th {\n        text-align: right;\n    }\n</style>\n<table border=\"1\" class=\"dataframe\">\n  <thead>\n    <tr style=\"text-align: right;\">\n      <th></th>\n      <th>A</th>\n      <th>B</th>\n      <th>C</th>\n    </tr>\n  </thead>\n  <tbody>\n    <tr>\n      <th>b</th>\n      <td>0.429022</td>\n      <td>0.726723</td>\n      <td>-0.857913</td>\n    </tr>\n    <tr>\n      <th>c</th>\n      <td>0.033321</td>\n      <td>0.308466</td>\n      <td>-1.099397</td>\n    </tr>\n    <tr>\n      <th>d</th>\n      <td>-1.271012</td>\n      <td>-0.571779</td>\n      <td>0.736862</td>\n    </tr>\n    <tr>\n      <th>e</th>\n      <td>-1.060826</td>\n      <td>0.063456</td>\n      <td>0.910520</td>\n    </tr>\n  </tbody>\n</table>\n</div>"
     },
     "metadata": {},
     "execution_count": 19
    }
   ],
   "source": [
    "# Seleção usando o loc (Seletor de rótulo e de índice)\n",
    "#dados.loc[[\"a\", \"b\"]]\n",
    "#dados.loc[\"a\":\"c\", \"A\"]\n",
    "dados.loc[\"b\":, \"A\":\"C\"]\n",
    "#dados.loc[1]"
   ]
  },
  {
   "cell_type": "code",
   "execution_count": 20,
   "metadata": {},
   "outputs": [],
   "source": [
    "dados_1 = dados.copy()"
   ]
  },
  {
   "cell_type": "code",
   "execution_count": 21,
   "metadata": {},
   "outputs": [],
   "source": [
    "dados_1.index = [*range(1,6)]"
   ]
  },
  {
   "cell_type": "code",
   "execution_count": 23,
   "metadata": {},
   "outputs": [
    {
     "output_type": "execute_result",
     "data": {
      "text/plain": "          A         B         C         D         E\n1  1.251365  0.320908  1.334427 -1.016373  0.464360\n2  0.429022  0.726723 -0.857913  0.742353  0.575248\n3  0.033321  0.308466 -1.099397 -0.160390 -0.532632\n4 -1.271012 -0.571779  0.736862  0.268666  0.641587\n5 -1.060826  0.063456  0.910520  0.297049 -0.245962",
      "text/html": "<div>\n<style scoped>\n    .dataframe tbody tr th:only-of-type {\n        vertical-align: middle;\n    }\n\n    .dataframe tbody tr th {\n        vertical-align: top;\n    }\n\n    .dataframe thead th {\n        text-align: right;\n    }\n</style>\n<table border=\"1\" class=\"dataframe\">\n  <thead>\n    <tr style=\"text-align: right;\">\n      <th></th>\n      <th>A</th>\n      <th>B</th>\n      <th>C</th>\n      <th>D</th>\n      <th>E</th>\n    </tr>\n  </thead>\n  <tbody>\n    <tr>\n      <th>1</th>\n      <td>1.251365</td>\n      <td>0.320908</td>\n      <td>1.334427</td>\n      <td>-1.016373</td>\n      <td>0.464360</td>\n    </tr>\n    <tr>\n      <th>2</th>\n      <td>0.429022</td>\n      <td>0.726723</td>\n      <td>-0.857913</td>\n      <td>0.742353</td>\n      <td>0.575248</td>\n    </tr>\n    <tr>\n      <th>3</th>\n      <td>0.033321</td>\n      <td>0.308466</td>\n      <td>-1.099397</td>\n      <td>-0.160390</td>\n      <td>-0.532632</td>\n    </tr>\n    <tr>\n      <th>4</th>\n      <td>-1.271012</td>\n      <td>-0.571779</td>\n      <td>0.736862</td>\n      <td>0.268666</td>\n      <td>0.641587</td>\n    </tr>\n    <tr>\n      <th>5</th>\n      <td>-1.060826</td>\n      <td>0.063456</td>\n      <td>0.910520</td>\n      <td>0.297049</td>\n      <td>-0.245962</td>\n    </tr>\n  </tbody>\n</table>\n</div>"
     },
     "metadata": {},
     "execution_count": 23
    }
   ],
   "source": [
    "dados_1.loc[1:5]"
   ]
  },
  {
   "cell_type": "code",
   "execution_count": 42,
   "metadata": {},
   "outputs": [
    {
     "output_type": "execute_result",
     "data": {
      "text/plain": "          A         B         C         D         E\na  1.251365  0.320908  1.334427 -1.016373  0.464360\nb  0.429022  0.726723 -0.857913  0.742353  0.575248\nc  0.033321  0.308466 -1.099397 -0.160390 -0.532632\nd -1.271012 -0.571779  0.736862  0.268666  0.641587\ne -1.060826  0.063456  0.910520  0.297049 -0.245962",
      "text/html": "<div>\n<style scoped>\n    .dataframe tbody tr th:only-of-type {\n        vertical-align: middle;\n    }\n\n    .dataframe tbody tr th {\n        vertical-align: top;\n    }\n\n    .dataframe thead th {\n        text-align: right;\n    }\n</style>\n<table border=\"1\" class=\"dataframe\">\n  <thead>\n    <tr style=\"text-align: right;\">\n      <th></th>\n      <th>A</th>\n      <th>B</th>\n      <th>C</th>\n      <th>D</th>\n      <th>E</th>\n    </tr>\n  </thead>\n  <tbody>\n    <tr>\n      <th>a</th>\n      <td>1.251365</td>\n      <td>0.320908</td>\n      <td>1.334427</td>\n      <td>-1.016373</td>\n      <td>0.464360</td>\n    </tr>\n    <tr>\n      <th>b</th>\n      <td>0.429022</td>\n      <td>0.726723</td>\n      <td>-0.857913</td>\n      <td>0.742353</td>\n      <td>0.575248</td>\n    </tr>\n    <tr>\n      <th>c</th>\n      <td>0.033321</td>\n      <td>0.308466</td>\n      <td>-1.099397</td>\n      <td>-0.160390</td>\n      <td>-0.532632</td>\n    </tr>\n    <tr>\n      <th>d</th>\n      <td>-1.271012</td>\n      <td>-0.571779</td>\n      <td>0.736862</td>\n      <td>0.268666</td>\n      <td>0.641587</td>\n    </tr>\n    <tr>\n      <th>e</th>\n      <td>-1.060826</td>\n      <td>0.063456</td>\n      <td>0.910520</td>\n      <td>0.297049</td>\n      <td>-0.245962</td>\n    </tr>\n  </tbody>\n</table>\n</div>"
     },
     "metadata": {},
     "execution_count": 42
    }
   ],
   "source": [
    "dados"
   ]
  },
  {
   "cell_type": "code",
   "execution_count": 51,
   "metadata": {},
   "outputs": [
    {
     "output_type": "execute_result",
     "data": {
      "text/plain": "          A         B         C         D        E\na  1.251365  0.320908  1.334427 -1.016373  0.46436",
      "text/html": "<div>\n<style scoped>\n    .dataframe tbody tr th:only-of-type {\n        vertical-align: middle;\n    }\n\n    .dataframe tbody tr th {\n        vertical-align: top;\n    }\n\n    .dataframe thead th {\n        text-align: right;\n    }\n</style>\n<table border=\"1\" class=\"dataframe\">\n  <thead>\n    <tr style=\"text-align: right;\">\n      <th></th>\n      <th>A</th>\n      <th>B</th>\n      <th>C</th>\n      <th>D</th>\n      <th>E</th>\n    </tr>\n  </thead>\n  <tbody>\n    <tr>\n      <th>a</th>\n      <td>1.251365</td>\n      <td>0.320908</td>\n      <td>1.334427</td>\n      <td>-1.016373</td>\n      <td>0.46436</td>\n    </tr>\n  </tbody>\n</table>\n</div>"
     },
     "metadata": {},
     "execution_count": 51
    }
   ],
   "source": [
    "# Seleção usando o iloc (Seletor por número da linha)\n",
    "#dados.iloc[0:3]\n",
    "#dados_1.iloc[0:1]\n",
    "#dados.iloc[0:4][[\"A\", \"B\"]]\n",
    "dados.iloc[0:1, 0:6]"
   ]
  },
  {
   "cell_type": "code",
   "execution_count": null,
   "metadata": {},
   "outputs": [],
   "source": [
    "# Slice usando loc e iloc"
   ]
  }
 ]
}