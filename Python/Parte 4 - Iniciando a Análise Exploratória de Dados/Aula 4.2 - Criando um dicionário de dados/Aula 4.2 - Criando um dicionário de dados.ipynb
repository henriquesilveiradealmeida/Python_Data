{
 "metadata": {
  "language_info": {
   "codemirror_mode": {
    "name": "ipython",
    "version": 3
   },
   "file_extension": ".py",
   "mimetype": "text/x-python",
   "name": "python",
   "nbconvert_exporter": "python",
   "pygments_lexer": "ipython3",
   "version": "3.8.5-final"
  },
  "orig_nbformat": 2,
  "kernelspec": {
   "name": "python3",
   "display_name": "Python 3.8.5 64-bit (conda)",
   "metadata": {
    "interpreter": {
     "hash": "b3ba2566441a7c06988d0923437866b63cedc61552a5af99d1f4fb67d367b25f"
    }
   }
  }
 },
 "nbformat": 4,
 "nbformat_minor": 2,
 "cells": [
  {
   "cell_type": "code",
   "execution_count": null,
   "metadata": {},
   "outputs": [],
   "source": [
    "# Página do download dos dados no Kaggle\n",
    "# https://www.kaggle.com/rubenssjr/brasilian-houses-to-rent?select=houses_to_rent.csv"
   ]
  },
  {
   "cell_type": "code",
   "execution_count": 1,
   "metadata": {},
   "outputs": [],
   "source": [
    "# Importando as bibliotecas\n",
    "import pandas as pd \n",
    "import numpy as np\n",
    "import sys\n",
    "import os\n",
    "\n",
    "sys.path.append(\"D:\\\\videos\\\\Pandas\\\\arquivos\\\\funcoes_curso\")\n",
    "from funcoes import importar_base "
   ]
  },
  {
   "cell_type": "code",
   "execution_count": 16,
   "metadata": {},
   "outputs": [],
   "source": [
    "# Abrindo a base de dados\n",
    "dados_alugueis = importar_base(\"houses_to_rent.csv\")"
   ]
  },
  {
   "cell_type": "code",
   "execution_count": 3,
   "metadata": {},
   "outputs": [
    {
     "output_type": "execute_result",
     "data": {
      "text/plain": [
       "   city  area  rooms  bathroom  parking spaces floor animal      furniture  \\\n",
       "0     1   240      3         3               4     -  acept      furnished   \n",
       "1     0    64      2         1               1    10  acept  not furnished   \n",
       "\n",
       "     hoa rent amount property tax fire insurance    total  \n",
       "0    R$0     R$8,000      R$1,000          R$121  R$9,121  \n",
       "1  R$540       R$820        R$122           R$11  R$1,493  "
      ],
      "text/html": "<div>\n<style scoped>\n    .dataframe tbody tr th:only-of-type {\n        vertical-align: middle;\n    }\n\n    .dataframe tbody tr th {\n        vertical-align: top;\n    }\n\n    .dataframe thead th {\n        text-align: right;\n    }\n</style>\n<table border=\"1\" class=\"dataframe\">\n  <thead>\n    <tr style=\"text-align: right;\">\n      <th></th>\n      <th>city</th>\n      <th>area</th>\n      <th>rooms</th>\n      <th>bathroom</th>\n      <th>parking spaces</th>\n      <th>floor</th>\n      <th>animal</th>\n      <th>furniture</th>\n      <th>hoa</th>\n      <th>rent amount</th>\n      <th>property tax</th>\n      <th>fire insurance</th>\n      <th>total</th>\n    </tr>\n  </thead>\n  <tbody>\n    <tr>\n      <th>0</th>\n      <td>1</td>\n      <td>240</td>\n      <td>3</td>\n      <td>3</td>\n      <td>4</td>\n      <td>-</td>\n      <td>acept</td>\n      <td>furnished</td>\n      <td>R$0</td>\n      <td>R$8,000</td>\n      <td>R$1,000</td>\n      <td>R$121</td>\n      <td>R$9,121</td>\n    </tr>\n    <tr>\n      <th>1</th>\n      <td>0</td>\n      <td>64</td>\n      <td>2</td>\n      <td>1</td>\n      <td>1</td>\n      <td>10</td>\n      <td>acept</td>\n      <td>not furnished</td>\n      <td>R$540</td>\n      <td>R$820</td>\n      <td>R$122</td>\n      <td>R$11</td>\n      <td>R$1,493</td>\n    </tr>\n  </tbody>\n</table>\n</div>"
     },
     "metadata": {},
     "execution_count": 3
    }
   ],
   "source": [
    "dados_alugueis.head(2)"
   ]
  },
  {
   "cell_type": "code",
   "execution_count": 17,
   "metadata": {},
   "outputs": [
    {
     "output_type": "stream",
     "name": "stdout",
     "text": [
      "<class 'pandas.core.frame.DataFrame'>\nInt64Index: 6080 entries, 0 to 6079\nData columns (total 13 columns):\n #   Column          Non-Null Count  Dtype \n---  ------          --------------  ----- \n 0   city            6080 non-null   int64 \n 1   area            6080 non-null   int64 \n 2   rooms           6080 non-null   int64 \n 3   bathroom        6080 non-null   int64 \n 4   parking spaces  6080 non-null   int64 \n 5   floor           6080 non-null   object\n 6   animal          6080 non-null   object\n 7   furniture       6080 non-null   object\n 8   hoa             6080 non-null   object\n 9   rent amount     6080 non-null   object\n 10  property tax    6080 non-null   object\n 11  fire insurance  6080 non-null   object\n 12  total           6080 non-null   object\ndtypes: int64(5), object(8)\nmemory usage: 665.0+ KB\n"
     ]
    }
   ],
   "source": [
    "dados_alugueis.info()"
   ]
  },
  {
   "cell_type": "code",
   "execution_count": 4,
   "metadata": {},
   "outputs": [],
   "source": [
    "# Podemos criar um dicionário de dados e salvá-los na pasta dos arquivos\n",
    "# 1 - Cada coluna da biblioteca, a descrição da coluna da base\n",
    "\n",
    "b1 = {\n",
    "    \"city\": [\"Cidade onde o imóvel está localizado\"],\n",
    "    \"area\": [\"Área, em m², do imóvel\"],\n",
    "    \"rooms\": [\"Quantidade de quartos\"]\n",
    "}"
   ]
  },
  {
   "cell_type": "code",
   "execution_count": 5,
   "metadata": {},
   "outputs": [],
   "source": [
    "b1_df = pd.DataFrame(b1)"
   ]
  },
  {
   "cell_type": "code",
   "execution_count": 8,
   "metadata": {},
   "outputs": [],
   "source": [
    "b1_df.to_csv(\"Biblioteca V1.csv\")"
   ]
  },
  {
   "cell_type": "code",
   "execution_count": 9,
   "metadata": {},
   "outputs": [],
   "source": [
    "# Cada coluna, uma característica\n",
    "b2 = {\n",
    "    \"nome_coluna\": [\"city\", \"area\", \"rooms\"],\n",
    "    \"descricao\": [\"Cidade onde o imóvel está localizado\", \"Área, em m², do imóvel\", \"Quantidade de quartos\"],\n",
    "    \"tipo_dado\": [\"Numérico (catergórico)\", \"Numérico\", \"Quantitativo\"],\n",
    "    \"tipo_dado_np\": [\"Int64\", \"Int64\", \"Int64\"]\n",
    "\n",
    "}"
   ]
  },
  {
   "cell_type": "code",
   "execution_count": 10,
   "metadata": {},
   "outputs": [],
   "source": [
    "b2_df = pd.DataFrame(b2)"
   ]
  },
  {
   "cell_type": "code",
   "execution_count": 12,
   "metadata": {},
   "outputs": [],
   "source": [
    "b2_df.to_csv(\"Biblioteca V2.csv\")"
   ]
  },
  {
   "cell_type": "code",
   "execution_count": null,
   "metadata": {},
   "outputs": [],
   "source": [
    "# Salvando o arquivo na pasta da base de alugéis (o formato será em csv)"
   ]
  }
 ]
}