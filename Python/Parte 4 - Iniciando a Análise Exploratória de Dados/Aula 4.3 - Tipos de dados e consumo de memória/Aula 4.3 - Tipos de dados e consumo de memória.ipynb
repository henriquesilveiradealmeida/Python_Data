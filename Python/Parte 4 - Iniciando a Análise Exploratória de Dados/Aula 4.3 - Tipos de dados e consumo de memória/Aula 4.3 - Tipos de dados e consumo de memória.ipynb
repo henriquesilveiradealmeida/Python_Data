{
 "metadata": {
  "language_info": {
   "codemirror_mode": {
    "name": "ipython",
    "version": 3
   },
   "file_extension": ".py",
   "mimetype": "text/x-python",
   "name": "python",
   "nbconvert_exporter": "python",
   "pygments_lexer": "ipython3",
   "version": "3.8.5-final"
  },
  "orig_nbformat": 2,
  "kernelspec": {
   "name": "python3",
   "display_name": "Python 3.8.5 64-bit (conda)",
   "metadata": {
    "interpreter": {
     "hash": "b3ba2566441a7c06988d0923437866b63cedc61552a5af99d1f4fb67d367b25f"
    }
   }
  }
 },
 "nbformat": 4,
 "nbformat_minor": 2,
 "cells": [
  {
   "cell_type": "code",
   "execution_count": 1,
   "metadata": {},
   "outputs": [],
   "source": [
    "# Importando as bibliotecas\n",
    "import pandas as pd \n",
    "import numpy as np\n",
    "import sys\n",
    "import os\n",
    "\n",
    "sys.path.append(\"D:\\\\videos\\\\Pandas\\\\arquivos\\\\funcoes_curso\")\n",
    "from funcoes import importar_base \n",
    "dados_alugueis = importar_base(\"houses_to_rent.csv\")"
   ]
  },
  {
   "cell_type": "code",
   "execution_count": 2,
   "metadata": {},
   "outputs": [
    {
     "output_type": "execute_result",
     "data": {
      "text/plain": [
       "   city  area  rooms  bathroom  parking spaces floor animal      furniture  \\\n",
       "0     1   240      3         3               4     -  acept      furnished   \n",
       "1     0    64      2         1               1    10  acept  not furnished   \n",
       "\n",
       "     hoa rent amount property tax fire insurance    total  \n",
       "0    R$0     R$8,000      R$1,000          R$121  R$9,121  \n",
       "1  R$540       R$820        R$122           R$11  R$1,493  "
      ],
      "text/html": "<div>\n<style scoped>\n    .dataframe tbody tr th:only-of-type {\n        vertical-align: middle;\n    }\n\n    .dataframe tbody tr th {\n        vertical-align: top;\n    }\n\n    .dataframe thead th {\n        text-align: right;\n    }\n</style>\n<table border=\"1\" class=\"dataframe\">\n  <thead>\n    <tr style=\"text-align: right;\">\n      <th></th>\n      <th>city</th>\n      <th>area</th>\n      <th>rooms</th>\n      <th>bathroom</th>\n      <th>parking spaces</th>\n      <th>floor</th>\n      <th>animal</th>\n      <th>furniture</th>\n      <th>hoa</th>\n      <th>rent amount</th>\n      <th>property tax</th>\n      <th>fire insurance</th>\n      <th>total</th>\n    </tr>\n  </thead>\n  <tbody>\n    <tr>\n      <th>0</th>\n      <td>1</td>\n      <td>240</td>\n      <td>3</td>\n      <td>3</td>\n      <td>4</td>\n      <td>-</td>\n      <td>acept</td>\n      <td>furnished</td>\n      <td>R$0</td>\n      <td>R$8,000</td>\n      <td>R$1,000</td>\n      <td>R$121</td>\n      <td>R$9,121</td>\n    </tr>\n    <tr>\n      <th>1</th>\n      <td>0</td>\n      <td>64</td>\n      <td>2</td>\n      <td>1</td>\n      <td>1</td>\n      <td>10</td>\n      <td>acept</td>\n      <td>not furnished</td>\n      <td>R$540</td>\n      <td>R$820</td>\n      <td>R$122</td>\n      <td>R$11</td>\n      <td>R$1,493</td>\n    </tr>\n  </tbody>\n</table>\n</div>"
     },
     "metadata": {},
     "execution_count": 2
    }
   ],
   "source": [
    "# Verificando os dados das colunas\n",
    "dados_alugueis.head(2)"
   ]
  },
  {
   "cell_type": "code",
   "execution_count": 3,
   "metadata": {},
   "outputs": [
    {
     "output_type": "execute_result",
     "data": {
      "text/plain": [
       "city               int64\n",
       "area               int64\n",
       "rooms              int64\n",
       "bathroom           int64\n",
       "parking spaces     int64\n",
       "floor             object\n",
       "animal            object\n",
       "furniture         object\n",
       "hoa               object\n",
       "rent amount       object\n",
       "property tax      object\n",
       "fire insurance    object\n",
       "total             object\n",
       "dtype: object"
      ]
     },
     "metadata": {},
     "execution_count": 3
    }
   ],
   "source": [
    "# Verificando os tipos de dados usando o atributo .dtypes\n",
    "dados_alugueis.dtypes"
   ]
  },
  {
   "cell_type": "code",
   "execution_count": 4,
   "metadata": {},
   "outputs": [
    {
     "output_type": "execute_result",
     "data": {
      "text/plain": [
       "Index             212480\n",
       "city               48640\n",
       "area               48640\n",
       "rooms              48640\n",
       "bathroom           48640\n",
       "parking spaces     48640\n",
       "floor             354071\n",
       "animal            382616\n",
       "furniture         419272\n",
       "hoa               379216\n",
       "rent amount       389125\n",
       "property tax      374694\n",
       "fire insurance    371753\n",
       "total             389956\n",
       "dtype: int64"
      ]
     },
     "metadata": {},
     "execution_count": 4
    }
   ],
   "source": [
    "# Verificando o consumo de memória usando o método .memory_usage(deep=true)\n",
    "# Salvaremos o valor atual para comparação no final\n",
    "dados_alugueis.memory_usage(deep = True)"
   ]
  },
  {
   "cell_type": "code",
   "execution_count": 5,
   "metadata": {},
   "outputs": [],
   "source": [
    "consumo_memoria_old = dados_alugueis.memory_usage(deep = True)"
   ]
  },
  {
   "cell_type": "code",
   "execution_count": 6,
   "metadata": {},
   "outputs": [],
   "source": [
    "# Podemos converter os dados usando o método .astype(tipo de dado) na coluna específica\n",
    "# Lembremos agora o que eu vivia dizendo: criar uma cópia dos dados, pois pode ser que caguemos em alguma parte\n",
    "dados_alugueis_copia = dados_alugueis.copy(deep = True)"
   ]
  },
  {
   "cell_type": "code",
   "execution_count": 11,
   "metadata": {},
   "outputs": [],
   "source": [
    "# Alteraremos para valores menores (np.int8)\r\n",
    "dados_alugueis_copia[\"area\"] = dados_alugueis_copia[\"area\"].astype(np.int8)\r\n",
    "dados_alugueis_copia[\"rooms\"] = dados_alugueis_copia[\"rooms\"].astype(np.int8)\r\n",
    "dados_alugueis_copia[\"bathroom\"] = dados_alugueis_copia[\"bathroom\"].astype(np.int8)\r\n",
    "dados_alugueis_copia[\"parking spaces\"] = dados_alugueis_copia[\"parking spaces\"].astype(np.int8)"
   ]
  },
  {
   "cell_type": "code",
   "execution_count": 10,
   "metadata": {},
   "outputs": [
    {
     "output_type": "execute_result",
     "data": {
      "text/plain": [
       "Index             212480\n",
       "city               48640\n",
       "area                6080\n",
       "rooms               6080\n",
       "bathroom            6080\n",
       "parking spaces     48640\n",
       "floor             354071\n",
       "animal            382616\n",
       "furniture         419272\n",
       "hoa               379216\n",
       "rent amount       389125\n",
       "property tax      374694\n",
       "fire insurance    371753\n",
       "total             389956\n",
       "dtype: int64"
      ]
     },
     "metadata": {},
     "execution_count": 10
    }
   ],
   "source": [
    "# Verificando o novo tamanho da base (.memory_usage) e quais os tipos de dados (.dtypes)\n",
    "dados_alugueis_copia.memory_usage(deep = True)"
   ]
  },
  {
   "cell_type": "code",
   "execution_count": 16,
   "metadata": {},
   "outputs": [
    {
     "output_type": "execute_result",
     "data": {
      "text/plain": [
       "city                 2\n",
       "floor               37\n",
       "animal               2\n",
       "furniture            2\n",
       "hoa               1292\n",
       "rent amount       1032\n",
       "property tax      1036\n",
       "fire insurance     190\n",
       "total             4069\n",
       "dtype: int64"
      ]
     },
     "metadata": {},
     "execution_count": 16
    }
   ],
   "source": [
    "# Usando o método nunique para saber a quantidade de valores únicos \n",
    "# Selecionar com include=[\"object\"]\n",
    "# https://pandas.pydata.org/docs/reference/api/pandas.DataFrame.nunique.html?highlight=nunique#pandas.DataFrame.nunique \n",
    "\n",
    "dados_alugueis_copia.select_dtypes(include = [\"object\", \"int64\"]).nunique()"
   ]
  },
  {
   "cell_type": "code",
   "execution_count": 17,
   "metadata": {},
   "outputs": [],
   "source": [
    "dados_alugueis_copia[\"city\"] = dados_alugueis_copia[\"city\"].astype(\"category\")\n",
    "dados_alugueis_copia[\"animal\"] = dados_alugueis_copia[\"animal\"].astype(\"category\")\n",
    "dados_alugueis_copia[\"furniture\"] = dados_alugueis_copia[\"furniture\"].astype(\"category\")"
   ]
  },
  {
   "cell_type": "code",
   "execution_count": 19,
   "metadata": {},
   "outputs": [],
   "source": [
    "# Comparação o consumo de memória atual e o do começo\n",
    "consumo_atual = dados_alugueis_copia.memory_usage(deep = True)"
   ]
  },
  {
   "cell_type": "code",
   "execution_count": 20,
   "metadata": {},
   "outputs": [
    {
     "output_type": "execute_result",
     "data": {
      "text/plain": [
       "Index             1.000000\n",
       "city              0.126974\n",
       "area              0.125000\n",
       "rooms             0.125000\n",
       "bathroom          0.125000\n",
       "parking spaces    0.125000\n",
       "floor             1.000000\n",
       "animal            0.016434\n",
       "furniture         0.015017\n",
       "hoa               1.000000\n",
       "rent amount       1.000000\n",
       "property tax      1.000000\n",
       "fire insurance    1.000000\n",
       "total             1.000000\n",
       "dtype: float64"
      ]
     },
     "metadata": {},
     "execution_count": 20
    }
   ],
   "source": [
    "consumo_atual / consumo_memoria_old"
   ]
  }
 ]
}