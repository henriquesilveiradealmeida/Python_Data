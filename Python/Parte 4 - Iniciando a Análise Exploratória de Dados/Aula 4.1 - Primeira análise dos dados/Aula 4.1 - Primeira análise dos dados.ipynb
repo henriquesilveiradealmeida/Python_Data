{
 "metadata": {
  "language_info": {
   "codemirror_mode": {
    "name": "ipython",
    "version": 3
   },
   "file_extension": ".py",
   "mimetype": "text/x-python",
   "name": "python",
   "nbconvert_exporter": "python",
   "pygments_lexer": "ipython3",
   "version": "3.8.5-final"
  },
  "orig_nbformat": 2,
  "kernelspec": {
   "name": "python3",
   "display_name": "Python 3.8.5 64-bit (conda)",
   "metadata": {
    "interpreter": {
     "hash": "b3ba2566441a7c06988d0923437866b63cedc61552a5af99d1f4fb67d367b25f"
    }
   }
  }
 },
 "nbformat": 4,
 "nbformat_minor": 2,
 "cells": [
  {
   "cell_type": "code",
   "execution_count": 5,
   "metadata": {},
   "outputs": [],
   "source": [
    "# Importando as bibliotecas\n",
    "import pandas as pd \n",
    "import numpy as np\n",
    "import sys\n",
    "import os\n",
    "\n",
    "# Não esquecer de colocar o endereço de onde está a pasta com a base de dados, pois aqui estou colocando em absoluto pq estou com preguiça Hahahaha\n",
    "sys.path.append(\"D:\\\\videos\\\\Pandas\\\\arquivos\\\\funcoes_curso\")\n",
    "from funcoes import importar_base "
   ]
  },
  {
   "cell_type": "code",
   "execution_count": 6,
   "metadata": {},
   "outputs": [],
   "source": [
    "# Importando os dados em um dataframe\n",
    "dados_alugueis = importar_base(\"houses_to_rent.csv\")"
   ]
  },
  {
   "cell_type": "code",
   "execution_count": 7,
   "metadata": {},
   "outputs": [
    {
     "output_type": "execute_result",
     "data": {
      "text/plain": [
       "   city  area  rooms  bathroom  parking spaces floor     animal  \\\n",
       "0     1   240      3         3               4     -      acept   \n",
       "1     0    64      2         1               1    10      acept   \n",
       "2     1   443      5         5               4     3      acept   \n",
       "3     1    73      2         2               1    12      acept   \n",
       "4     1    19      1         1               0     -  not acept   \n",
       "\n",
       "       furniture      hoa rent amount property tax fire insurance     total  \n",
       "0      furnished      R$0     R$8,000      R$1,000          R$121   R$9,121  \n",
       "1  not furnished    R$540       R$820        R$122           R$11   R$1,493  \n",
       "2      furnished  R$4,172     R$7,000      R$1,417           R$89  R$12,680  \n",
       "3  not furnished    R$700     R$1,250        R$150           R$16   R$2,116  \n",
       "4  not furnished      R$0     R$1,200         R$41           R$16   R$1,257  "
      ],
      "text/html": "<div>\n<style scoped>\n    .dataframe tbody tr th:only-of-type {\n        vertical-align: middle;\n    }\n\n    .dataframe tbody tr th {\n        vertical-align: top;\n    }\n\n    .dataframe thead th {\n        text-align: right;\n    }\n</style>\n<table border=\"1\" class=\"dataframe\">\n  <thead>\n    <tr style=\"text-align: right;\">\n      <th></th>\n      <th>city</th>\n      <th>area</th>\n      <th>rooms</th>\n      <th>bathroom</th>\n      <th>parking spaces</th>\n      <th>floor</th>\n      <th>animal</th>\n      <th>furniture</th>\n      <th>hoa</th>\n      <th>rent amount</th>\n      <th>property tax</th>\n      <th>fire insurance</th>\n      <th>total</th>\n    </tr>\n  </thead>\n  <tbody>\n    <tr>\n      <th>0</th>\n      <td>1</td>\n      <td>240</td>\n      <td>3</td>\n      <td>3</td>\n      <td>4</td>\n      <td>-</td>\n      <td>acept</td>\n      <td>furnished</td>\n      <td>R$0</td>\n      <td>R$8,000</td>\n      <td>R$1,000</td>\n      <td>R$121</td>\n      <td>R$9,121</td>\n    </tr>\n    <tr>\n      <th>1</th>\n      <td>0</td>\n      <td>64</td>\n      <td>2</td>\n      <td>1</td>\n      <td>1</td>\n      <td>10</td>\n      <td>acept</td>\n      <td>not furnished</td>\n      <td>R$540</td>\n      <td>R$820</td>\n      <td>R$122</td>\n      <td>R$11</td>\n      <td>R$1,493</td>\n    </tr>\n    <tr>\n      <th>2</th>\n      <td>1</td>\n      <td>443</td>\n      <td>5</td>\n      <td>5</td>\n      <td>4</td>\n      <td>3</td>\n      <td>acept</td>\n      <td>furnished</td>\n      <td>R$4,172</td>\n      <td>R$7,000</td>\n      <td>R$1,417</td>\n      <td>R$89</td>\n      <td>R$12,680</td>\n    </tr>\n    <tr>\n      <th>3</th>\n      <td>1</td>\n      <td>73</td>\n      <td>2</td>\n      <td>2</td>\n      <td>1</td>\n      <td>12</td>\n      <td>acept</td>\n      <td>not furnished</td>\n      <td>R$700</td>\n      <td>R$1,250</td>\n      <td>R$150</td>\n      <td>R$16</td>\n      <td>R$2,116</td>\n    </tr>\n    <tr>\n      <th>4</th>\n      <td>1</td>\n      <td>19</td>\n      <td>1</td>\n      <td>1</td>\n      <td>0</td>\n      <td>-</td>\n      <td>not acept</td>\n      <td>not furnished</td>\n      <td>R$0</td>\n      <td>R$1,200</td>\n      <td>R$41</td>\n      <td>R$16</td>\n      <td>R$1,257</td>\n    </tr>\n  </tbody>\n</table>\n</div>"
     },
     "metadata": {},
     "execution_count": 7
    }
   ],
   "source": [
    "# Podemos usar o head(qt Linhas) para termos os primeiros dados do DataFrame\n",
    "dados_alugueis.head()"
   ]
  },
  {
   "cell_type": "code",
   "execution_count": 27,
   "metadata": {},
   "outputs": [
    {
     "output_type": "execute_result",
     "data": {
      "text/plain": [
       "      city  area  rooms  bathroom  parking spaces floor     animal  \\\n",
       "582      1   266      4         5               4     7      acept   \n",
       "3777     1   375      4         4               3     -      acept   \n",
       "4954     0    70      1         1               1     2      acept   \n",
       "1938     1   395      4         4               3    16      acept   \n",
       "3202     1    23      1         1               0    23      acept   \n",
       "5710     1    20      1         1               0     1  not acept   \n",
       "4348     0   148      3         2               0    14      acept   \n",
       "1277     1    85      2         1               0     4      acept   \n",
       "3233     1    75      1         2               0     4      acept   \n",
       "3635     1   320      4         6               4     4      acept   \n",
       "\n",
       "          furniture      hoa rent amount property tax fire insurance     total  \n",
       "582   not furnished  R$2,900    R$10,900      R$1,167          R$139  R$15,110  \n",
       "3777  not furnished      R$0     R$6,400         R$75           R$97   R$6,572  \n",
       "4954      furnished    R$460     R$2,350          R$6           R$30   R$2,846  \n",
       "1938      furnished  R$2,137    R$15,000        R$834          R$191  R$18,160  \n",
       "3202  not furnished    R$382     R$2,100         R$40           R$27   R$2,549  \n",
       "5710  not furnished      R$0     R$1,100         R$35           R$14   R$1,149  \n",
       "4348  not furnished    R$610     R$1,700        R$102           R$22   R$2,434  \n",
       "1277      furnished    R$620     R$2,190          R$0           R$28   R$2,838  \n",
       "3233  not furnished    R$260     R$2,100          R$0           R$27   R$2,387  \n",
       "3635  not furnished  R$5,400    R$15,000        R$175          R$191  R$20,770  "
      ],
      "text/html": "<div>\n<style scoped>\n    .dataframe tbody tr th:only-of-type {\n        vertical-align: middle;\n    }\n\n    .dataframe tbody tr th {\n        vertical-align: top;\n    }\n\n    .dataframe thead th {\n        text-align: right;\n    }\n</style>\n<table border=\"1\" class=\"dataframe\">\n  <thead>\n    <tr style=\"text-align: right;\">\n      <th></th>\n      <th>city</th>\n      <th>area</th>\n      <th>rooms</th>\n      <th>bathroom</th>\n      <th>parking spaces</th>\n      <th>floor</th>\n      <th>animal</th>\n      <th>furniture</th>\n      <th>hoa</th>\n      <th>rent amount</th>\n      <th>property tax</th>\n      <th>fire insurance</th>\n      <th>total</th>\n    </tr>\n  </thead>\n  <tbody>\n    <tr>\n      <th>582</th>\n      <td>1</td>\n      <td>266</td>\n      <td>4</td>\n      <td>5</td>\n      <td>4</td>\n      <td>7</td>\n      <td>acept</td>\n      <td>not furnished</td>\n      <td>R$2,900</td>\n      <td>R$10,900</td>\n      <td>R$1,167</td>\n      <td>R$139</td>\n      <td>R$15,110</td>\n    </tr>\n    <tr>\n      <th>3777</th>\n      <td>1</td>\n      <td>375</td>\n      <td>4</td>\n      <td>4</td>\n      <td>3</td>\n      <td>-</td>\n      <td>acept</td>\n      <td>not furnished</td>\n      <td>R$0</td>\n      <td>R$6,400</td>\n      <td>R$75</td>\n      <td>R$97</td>\n      <td>R$6,572</td>\n    </tr>\n    <tr>\n      <th>4954</th>\n      <td>0</td>\n      <td>70</td>\n      <td>1</td>\n      <td>1</td>\n      <td>1</td>\n      <td>2</td>\n      <td>acept</td>\n      <td>furnished</td>\n      <td>R$460</td>\n      <td>R$2,350</td>\n      <td>R$6</td>\n      <td>R$30</td>\n      <td>R$2,846</td>\n    </tr>\n    <tr>\n      <th>1938</th>\n      <td>1</td>\n      <td>395</td>\n      <td>4</td>\n      <td>4</td>\n      <td>3</td>\n      <td>16</td>\n      <td>acept</td>\n      <td>furnished</td>\n      <td>R$2,137</td>\n      <td>R$15,000</td>\n      <td>R$834</td>\n      <td>R$191</td>\n      <td>R$18,160</td>\n    </tr>\n    <tr>\n      <th>3202</th>\n      <td>1</td>\n      <td>23</td>\n      <td>1</td>\n      <td>1</td>\n      <td>0</td>\n      <td>23</td>\n      <td>acept</td>\n      <td>not furnished</td>\n      <td>R$382</td>\n      <td>R$2,100</td>\n      <td>R$40</td>\n      <td>R$27</td>\n      <td>R$2,549</td>\n    </tr>\n    <tr>\n      <th>5710</th>\n      <td>1</td>\n      <td>20</td>\n      <td>1</td>\n      <td>1</td>\n      <td>0</td>\n      <td>1</td>\n      <td>not acept</td>\n      <td>not furnished</td>\n      <td>R$0</td>\n      <td>R$1,100</td>\n      <td>R$35</td>\n      <td>R$14</td>\n      <td>R$1,149</td>\n    </tr>\n    <tr>\n      <th>4348</th>\n      <td>0</td>\n      <td>148</td>\n      <td>3</td>\n      <td>2</td>\n      <td>0</td>\n      <td>14</td>\n      <td>acept</td>\n      <td>not furnished</td>\n      <td>R$610</td>\n      <td>R$1,700</td>\n      <td>R$102</td>\n      <td>R$22</td>\n      <td>R$2,434</td>\n    </tr>\n    <tr>\n      <th>1277</th>\n      <td>1</td>\n      <td>85</td>\n      <td>2</td>\n      <td>1</td>\n      <td>0</td>\n      <td>4</td>\n      <td>acept</td>\n      <td>furnished</td>\n      <td>R$620</td>\n      <td>R$2,190</td>\n      <td>R$0</td>\n      <td>R$28</td>\n      <td>R$2,838</td>\n    </tr>\n    <tr>\n      <th>3233</th>\n      <td>1</td>\n      <td>75</td>\n      <td>1</td>\n      <td>2</td>\n      <td>0</td>\n      <td>4</td>\n      <td>acept</td>\n      <td>not furnished</td>\n      <td>R$260</td>\n      <td>R$2,100</td>\n      <td>R$0</td>\n      <td>R$27</td>\n      <td>R$2,387</td>\n    </tr>\n    <tr>\n      <th>3635</th>\n      <td>1</td>\n      <td>320</td>\n      <td>4</td>\n      <td>6</td>\n      <td>4</td>\n      <td>4</td>\n      <td>acept</td>\n      <td>not furnished</td>\n      <td>R$5,400</td>\n      <td>R$15,000</td>\n      <td>R$175</td>\n      <td>R$191</td>\n      <td>R$20,770</td>\n    </tr>\n  </tbody>\n</table>\n</div>"
     },
     "metadata": {},
     "execution_count": 27
    }
   ],
   "source": [
    "# Usando o .sample para obter algum dado aleatório\n",
    "dados_alugueis.sample(n=10, random_state=45)"
   ]
  },
  {
   "cell_type": "code",
   "execution_count": 29,
   "metadata": {},
   "outputs": [
    {
     "output_type": "execute_result",
     "data": {
      "text/plain": [
       "(6080, 13)"
      ]
     },
     "metadata": {},
     "execution_count": 29
    }
   ],
   "source": [
    "# Usando o .shape para saber o tamanho da base de dados\n",
    "dados_alugueis.shape"
   ]
  },
  {
   "cell_type": "code",
   "execution_count": 30,
   "metadata": {},
   "outputs": [
    {
     "output_type": "stream",
     "name": "stdout",
     "text": [
      "<class 'pandas.core.frame.DataFrame'>\nInt64Index: 6080 entries, 0 to 6079\nData columns (total 13 columns):\n #   Column          Non-Null Count  Dtype \n---  ------          --------------  ----- \n 0   city            6080 non-null   int64 \n 1   area            6080 non-null   int64 \n 2   rooms           6080 non-null   int64 \n 3   bathroom        6080 non-null   int64 \n 4   parking spaces  6080 non-null   int64 \n 5   floor           6080 non-null   object\n 6   animal          6080 non-null   object\n 7   furniture       6080 non-null   object\n 8   hoa             6080 non-null   object\n 9   rent amount     6080 non-null   object\n 10  property tax    6080 non-null   object\n 11  fire insurance  6080 non-null   object\n 12  total           6080 non-null   object\ndtypes: int64(5), object(8)\nmemory usage: 825.0+ KB\n"
     ]
    }
   ],
   "source": [
    "# Usando o .info para saber as características das colunas da base de dados\n",
    "# Tipos\n",
    "# - Float64 - Valores de ponto flutuante\n",
    "# - Int64 - Valores numéricos inteiros\n",
    "# - Object ou Categorical - Valores categóricos\n",
    "dados_alugueis.info()"
   ]
  },
  {
   "cell_type": "code",
   "execution_count": 38,
   "metadata": {},
   "outputs": [
    {
     "output_type": "execute_result",
     "data": {
      "text/plain": [
       "               count unique            top  freq\n",
       "floor           6080     37              -  1555\n",
       "animal          6080      2          acept  4666\n",
       "furniture       6080      2  not furnished  4498\n",
       "hoa             6080   1292            R$0  1291\n",
       "rent amount     6080   1032       R$15,000   155\n",
       "property tax    6080   1036            R$0  1053\n",
       "fire insurance  6080    190           R$23   163\n",
       "total           6080   4069        R$2,555    35"
      ],
      "text/html": "<div>\n<style scoped>\n    .dataframe tbody tr th:only-of-type {\n        vertical-align: middle;\n    }\n\n    .dataframe tbody tr th {\n        vertical-align: top;\n    }\n\n    .dataframe thead th {\n        text-align: right;\n    }\n</style>\n<table border=\"1\" class=\"dataframe\">\n  <thead>\n    <tr style=\"text-align: right;\">\n      <th></th>\n      <th>count</th>\n      <th>unique</th>\n      <th>top</th>\n      <th>freq</th>\n    </tr>\n  </thead>\n  <tbody>\n    <tr>\n      <th>floor</th>\n      <td>6080</td>\n      <td>37</td>\n      <td>-</td>\n      <td>1555</td>\n    </tr>\n    <tr>\n      <th>animal</th>\n      <td>6080</td>\n      <td>2</td>\n      <td>acept</td>\n      <td>4666</td>\n    </tr>\n    <tr>\n      <th>furniture</th>\n      <td>6080</td>\n      <td>2</td>\n      <td>not furnished</td>\n      <td>4498</td>\n    </tr>\n    <tr>\n      <th>hoa</th>\n      <td>6080</td>\n      <td>1292</td>\n      <td>R$0</td>\n      <td>1291</td>\n    </tr>\n    <tr>\n      <th>rent amount</th>\n      <td>6080</td>\n      <td>1032</td>\n      <td>R$15,000</td>\n      <td>155</td>\n    </tr>\n    <tr>\n      <th>property tax</th>\n      <td>6080</td>\n      <td>1036</td>\n      <td>R$0</td>\n      <td>1053</td>\n    </tr>\n    <tr>\n      <th>fire insurance</th>\n      <td>6080</td>\n      <td>190</td>\n      <td>R$23</td>\n      <td>163</td>\n    </tr>\n    <tr>\n      <th>total</th>\n      <td>6080</td>\n      <td>4069</td>\n      <td>R$2,555</td>\n      <td>35</td>\n    </tr>\n  </tbody>\n</table>\n</div>"
     },
     "metadata": {},
     "execution_count": 38
    }
   ],
   "source": [
    "# Usando o .describe para ver os dados numéricos da base\n",
    "# usando o parâmetro include para separar determinados valores de strings (np.object) e numéricos (np.number)\n",
    "dados_alugueis.describe(include=[np.object]).T"
   ]
  },
  {
   "cell_type": "code",
   "execution_count": 41,
   "metadata": {},
   "outputs": [
    {
     "output_type": "execute_result",
     "data": {
      "text/plain": [
       "                 count        mean         std   min    1%   10%   20%   30%  \\\n",
       "city            6080.0    0.863322    0.343535   0.0   0.0   0.0   1.0   1.0   \n",
       "area            6080.0  151.143914  375.559485  10.0  20.0  40.0  50.0  63.7   \n",
       "rooms           6080.0    2.492599    1.129665   1.0   1.0   1.0   1.0   2.0   \n",
       "bathroom        6080.0    2.341612    1.438860   1.0   1.0   1.0   1.0   1.0   \n",
       "parking spaces  6080.0    1.756250    1.611909   0.0   0.0   0.0   0.0   1.0   \n",
       "\n",
       "                 40%    50%    60%    70%    80%    90%     99%      max  \n",
       "city             1.0    1.0    1.0    1.0    1.0    1.0    1.00      1.0  \n",
       "area            79.6  100.0  130.0  170.0  220.0  300.0  641.05  24606.0  \n",
       "rooms            2.0    3.0    3.0    3.0    3.0    4.0    5.00     10.0  \n",
       "bathroom         2.0    2.0    2.0    3.0    4.0    4.0    6.00     10.0  \n",
       "parking spaces   1.0    1.0    2.0    2.0    3.0    4.0    8.00     12.0  "
      ],
      "text/html": "<div>\n<style scoped>\n    .dataframe tbody tr th:only-of-type {\n        vertical-align: middle;\n    }\n\n    .dataframe tbody tr th {\n        vertical-align: top;\n    }\n\n    .dataframe thead th {\n        text-align: right;\n    }\n</style>\n<table border=\"1\" class=\"dataframe\">\n  <thead>\n    <tr style=\"text-align: right;\">\n      <th></th>\n      <th>count</th>\n      <th>mean</th>\n      <th>std</th>\n      <th>min</th>\n      <th>1%</th>\n      <th>10%</th>\n      <th>20%</th>\n      <th>30%</th>\n      <th>40%</th>\n      <th>50%</th>\n      <th>60%</th>\n      <th>70%</th>\n      <th>80%</th>\n      <th>90%</th>\n      <th>99%</th>\n      <th>max</th>\n    </tr>\n  </thead>\n  <tbody>\n    <tr>\n      <th>city</th>\n      <td>6080.0</td>\n      <td>0.863322</td>\n      <td>0.343535</td>\n      <td>0.0</td>\n      <td>0.0</td>\n      <td>0.0</td>\n      <td>1.0</td>\n      <td>1.0</td>\n      <td>1.0</td>\n      <td>1.0</td>\n      <td>1.0</td>\n      <td>1.0</td>\n      <td>1.0</td>\n      <td>1.0</td>\n      <td>1.00</td>\n      <td>1.0</td>\n    </tr>\n    <tr>\n      <th>area</th>\n      <td>6080.0</td>\n      <td>151.143914</td>\n      <td>375.559485</td>\n      <td>10.0</td>\n      <td>20.0</td>\n      <td>40.0</td>\n      <td>50.0</td>\n      <td>63.7</td>\n      <td>79.6</td>\n      <td>100.0</td>\n      <td>130.0</td>\n      <td>170.0</td>\n      <td>220.0</td>\n      <td>300.0</td>\n      <td>641.05</td>\n      <td>24606.0</td>\n    </tr>\n    <tr>\n      <th>rooms</th>\n      <td>6080.0</td>\n      <td>2.492599</td>\n      <td>1.129665</td>\n      <td>1.0</td>\n      <td>1.0</td>\n      <td>1.0</td>\n      <td>1.0</td>\n      <td>2.0</td>\n      <td>2.0</td>\n      <td>3.0</td>\n      <td>3.0</td>\n      <td>3.0</td>\n      <td>3.0</td>\n      <td>4.0</td>\n      <td>5.00</td>\n      <td>10.0</td>\n    </tr>\n    <tr>\n      <th>bathroom</th>\n      <td>6080.0</td>\n      <td>2.341612</td>\n      <td>1.438860</td>\n      <td>1.0</td>\n      <td>1.0</td>\n      <td>1.0</td>\n      <td>1.0</td>\n      <td>1.0</td>\n      <td>2.0</td>\n      <td>2.0</td>\n      <td>2.0</td>\n      <td>3.0</td>\n      <td>4.0</td>\n      <td>4.0</td>\n      <td>6.00</td>\n      <td>10.0</td>\n    </tr>\n    <tr>\n      <th>parking spaces</th>\n      <td>6080.0</td>\n      <td>1.756250</td>\n      <td>1.611909</td>\n      <td>0.0</td>\n      <td>0.0</td>\n      <td>0.0</td>\n      <td>0.0</td>\n      <td>1.0</td>\n      <td>1.0</td>\n      <td>1.0</td>\n      <td>2.0</td>\n      <td>2.0</td>\n      <td>3.0</td>\n      <td>4.0</td>\n      <td>8.00</td>\n      <td>12.0</td>\n    </tr>\n  </tbody>\n</table>\n</div>"
     },
     "metadata": {},
     "execution_count": 41
    }
   ],
   "source": [
    "# Usando o parâmetro percentiles para ter a faixa dos percentis dos dados\n",
    "dados_alugueis.describe(\n",
    "    percentiles=[\n",
    "       0.01, 0.1, 0.2, 0.3, 0.4, 0.5, 0.6, 0.7, 0.8, 0.9, 0.99\n",
    "    ]\n",
    ").T"
   ]
  }
 ]
}