{
 "metadata": {
  "language_info": {
   "codemirror_mode": {
    "name": "ipython",
    "version": 3
   },
   "file_extension": ".py",
   "mimetype": "text/x-python",
   "name": "python",
   "nbconvert_exporter": "python",
   "pygments_lexer": "ipython3",
   "version": "3.8.5-final"
  },
  "orig_nbformat": 2,
  "kernelspec": {
   "name": "python3",
   "display_name": "Python 3.8.5 64-bit (conda)",
   "metadata": {
    "interpreter": {
     "hash": "b3ba2566441a7c06988d0923437866b63cedc61552a5af99d1f4fb67d367b25f"
    }
   }
  }
 },
 "nbformat": 4,
 "nbformat_minor": 2,
 "cells": [
  {
   "cell_type": "code",
   "execution_count": 1,
   "metadata": {},
   "outputs": [],
   "source": [
    "# Importando os dados\n",
    "import pandas as pd\n",
    "import numpy as np\n",
    "import os\n",
    "import sys\n",
    "\n",
    "sys.path.append(\"D:\\\\videos\\\\Pandas\\\\arquivos\\\\funcoes_curso\")\n",
    "from funcoes import importar_base \n",
    "dados_alugueis = importar_base(\"houses_to_rent.csv\") "
   ]
  },
  {
   "cell_type": "code",
   "execution_count": 2,
   "metadata": {},
   "outputs": [
    {
     "output_type": "execute_result",
     "data": {
      "text/plain": [
       "   city  area  rooms  bathroom  parking spaces floor     animal  \\\n",
       "0     1   240      3         3               4     -      acept   \n",
       "1     0    64      2         1               1    10      acept   \n",
       "2     1   443      5         5               4     3      acept   \n",
       "3     1    73      2         2               1    12      acept   \n",
       "4     1    19      1         1               0     -  not acept   \n",
       "\n",
       "       furniture      hoa rent amount property tax fire insurance     total  \n",
       "0      furnished      R$0     R$8,000      R$1,000          R$121   R$9,121  \n",
       "1  not furnished    R$540       R$820        R$122           R$11   R$1,493  \n",
       "2      furnished  R$4,172     R$7,000      R$1,417           R$89  R$12,680  \n",
       "3  not furnished    R$700     R$1,250        R$150           R$16   R$2,116  \n",
       "4  not furnished      R$0     R$1,200         R$41           R$16   R$1,257  "
      ],
      "text/html": "<div>\n<style scoped>\n    .dataframe tbody tr th:only-of-type {\n        vertical-align: middle;\n    }\n\n    .dataframe tbody tr th {\n        vertical-align: top;\n    }\n\n    .dataframe thead th {\n        text-align: right;\n    }\n</style>\n<table border=\"1\" class=\"dataframe\">\n  <thead>\n    <tr style=\"text-align: right;\">\n      <th></th>\n      <th>city</th>\n      <th>area</th>\n      <th>rooms</th>\n      <th>bathroom</th>\n      <th>parking spaces</th>\n      <th>floor</th>\n      <th>animal</th>\n      <th>furniture</th>\n      <th>hoa</th>\n      <th>rent amount</th>\n      <th>property tax</th>\n      <th>fire insurance</th>\n      <th>total</th>\n    </tr>\n  </thead>\n  <tbody>\n    <tr>\n      <th>0</th>\n      <td>1</td>\n      <td>240</td>\n      <td>3</td>\n      <td>3</td>\n      <td>4</td>\n      <td>-</td>\n      <td>acept</td>\n      <td>furnished</td>\n      <td>R$0</td>\n      <td>R$8,000</td>\n      <td>R$1,000</td>\n      <td>R$121</td>\n      <td>R$9,121</td>\n    </tr>\n    <tr>\n      <th>1</th>\n      <td>0</td>\n      <td>64</td>\n      <td>2</td>\n      <td>1</td>\n      <td>1</td>\n      <td>10</td>\n      <td>acept</td>\n      <td>not furnished</td>\n      <td>R$540</td>\n      <td>R$820</td>\n      <td>R$122</td>\n      <td>R$11</td>\n      <td>R$1,493</td>\n    </tr>\n    <tr>\n      <th>2</th>\n      <td>1</td>\n      <td>443</td>\n      <td>5</td>\n      <td>5</td>\n      <td>4</td>\n      <td>3</td>\n      <td>acept</td>\n      <td>furnished</td>\n      <td>R$4,172</td>\n      <td>R$7,000</td>\n      <td>R$1,417</td>\n      <td>R$89</td>\n      <td>R$12,680</td>\n    </tr>\n    <tr>\n      <th>3</th>\n      <td>1</td>\n      <td>73</td>\n      <td>2</td>\n      <td>2</td>\n      <td>1</td>\n      <td>12</td>\n      <td>acept</td>\n      <td>not furnished</td>\n      <td>R$700</td>\n      <td>R$1,250</td>\n      <td>R$150</td>\n      <td>R$16</td>\n      <td>R$2,116</td>\n    </tr>\n    <tr>\n      <th>4</th>\n      <td>1</td>\n      <td>19</td>\n      <td>1</td>\n      <td>1</td>\n      <td>0</td>\n      <td>-</td>\n      <td>not acept</td>\n      <td>not furnished</td>\n      <td>R$0</td>\n      <td>R$1,200</td>\n      <td>R$41</td>\n      <td>R$16</td>\n      <td>R$1,257</td>\n    </tr>\n  </tbody>\n</table>\n</div>"
     },
     "metadata": {},
     "execution_count": 2
    }
   ],
   "source": [
    "# Visualizando as primeiras linhas e obtendo os dados sumarizados usando o .describe(incluide='all')\n",
    "dados_alugueis.head()"
   ]
  },
  {
   "cell_type": "code",
   "execution_count": 21,
   "metadata": {},
   "outputs": [
    {
     "output_type": "execute_result",
     "data": {
      "text/plain": [
       "array(['-', '10', '3', '12', '2', '16', '6', '4', '1', '7', '13', '9',\n",
       "       '14', '5', '8', '15', '11', '19', '20', '24', '23', '17', '18',\n",
       "       '22', '27', '85', '28', '25', '29', '35', '21', '31', '99', '26',\n",
       "       '68', '32', '51'], dtype=object)"
      ]
     },
     "metadata": {},
     "execution_count": 21
    }
   ],
   "source": [
    "# Analisando o porquê a coluna \"floor\" está sendo considerada como texto\n",
    "dados_alugueis.floor.unique()"
   ]
  },
  {
   "cell_type": "code",
   "execution_count": 29,
   "metadata": {},
   "outputs": [],
   "source": [
    "dados_alugueis_copia = dados_alugueis.copy()"
   ]
  },
  {
   "cell_type": "code",
   "execution_count": 31,
   "metadata": {},
   "outputs": [
    {
     "output_type": "stream",
     "name": "stderr",
     "text": [
      "C:\\ProgramData\\Anaconda3\\lib\\site-packages\\pandas\\core\\generic.py:5168: SettingWithCopyWarning: \nA value is trying to be set on a copy of a slice from a DataFrame.\nTry using .loc[row_indexer,col_indexer] = value instead\n\nSee the caveats in the documentation: https://pandas.pydata.org/pandas-docs/stable/user_guide/indexing.html#returning-a-view-versus-a-copy\n  self[name] = value\n"
     ]
    }
   ],
   "source": [
    "# Substituição do traço da coluna floor\n",
    "dados_alugueis_copia[dados_alugueis_copia.floor == '-'].floor = 0"
   ]
  },
  {
   "cell_type": "code",
   "execution_count": 5,
   "metadata": {},
   "outputs": [
    {
     "output_type": "execute_result",
     "data": {
      "text/plain": [
       "               city          area        rooms     bathroom  parking spaces  \\\n",
       "count   6080.000000   6080.000000  6080.000000  6080.000000     6080.000000   \n",
       "unique          NaN           NaN          NaN          NaN             NaN   \n",
       "top             NaN           NaN          NaN          NaN             NaN   \n",
       "freq            NaN           NaN          NaN          NaN             NaN   \n",
       "mean       0.863322    151.143914     2.492599     2.341612        1.756250   \n",
       "std        0.343535    375.559485     1.129665     1.438860        1.611909   \n",
       "min        0.000000     10.000000     1.000000     1.000000        0.000000   \n",
       "25%        1.000000     58.000000     2.000000     1.000000        1.000000   \n",
       "50%        1.000000    100.000000     3.000000     2.000000        1.000000   \n",
       "75%        1.000000    200.000000     3.000000     3.000000        2.000000   \n",
       "max        1.000000  24606.000000    10.000000    10.000000       12.000000   \n",
       "\n",
       "       floor animal      furniture   hoa rent amount property tax  \\\n",
       "count   6080   6080           6080  6080        6080         6080   \n",
       "unique    37      2              2  1292        1032         1036   \n",
       "top        -  acept  not furnished   R$0    R$15,000          R$0   \n",
       "freq    1555   4666           4498  1291         155         1053   \n",
       "mean     NaN    NaN            NaN   NaN         NaN          NaN   \n",
       "std      NaN    NaN            NaN   NaN         NaN          NaN   \n",
       "min      NaN    NaN            NaN   NaN         NaN          NaN   \n",
       "25%      NaN    NaN            NaN   NaN         NaN          NaN   \n",
       "50%      NaN    NaN            NaN   NaN         NaN          NaN   \n",
       "75%      NaN    NaN            NaN   NaN         NaN          NaN   \n",
       "max      NaN    NaN            NaN   NaN         NaN          NaN   \n",
       "\n",
       "       fire insurance    total  \n",
       "count            6080     6080  \n",
       "unique            190     4069  \n",
       "top              R$23  R$2,555  \n",
       "freq              163       35  \n",
       "mean              NaN      NaN  \n",
       "std               NaN      NaN  \n",
       "min               NaN      NaN  \n",
       "25%               NaN      NaN  \n",
       "50%               NaN      NaN  \n",
       "75%               NaN      NaN  \n",
       "max               NaN      NaN  "
      ],
      "text/html": "<div>\n<style scoped>\n    .dataframe tbody tr th:only-of-type {\n        vertical-align: middle;\n    }\n\n    .dataframe tbody tr th {\n        vertical-align: top;\n    }\n\n    .dataframe thead th {\n        text-align: right;\n    }\n</style>\n<table border=\"1\" class=\"dataframe\">\n  <thead>\n    <tr style=\"text-align: right;\">\n      <th></th>\n      <th>city</th>\n      <th>area</th>\n      <th>rooms</th>\n      <th>bathroom</th>\n      <th>parking spaces</th>\n      <th>floor</th>\n      <th>animal</th>\n      <th>furniture</th>\n      <th>hoa</th>\n      <th>rent amount</th>\n      <th>property tax</th>\n      <th>fire insurance</th>\n      <th>total</th>\n    </tr>\n  </thead>\n  <tbody>\n    <tr>\n      <th>count</th>\n      <td>6080.000000</td>\n      <td>6080.000000</td>\n      <td>6080.000000</td>\n      <td>6080.000000</td>\n      <td>6080.000000</td>\n      <td>6080</td>\n      <td>6080</td>\n      <td>6080</td>\n      <td>6080</td>\n      <td>6080</td>\n      <td>6080</td>\n      <td>6080</td>\n      <td>6080</td>\n    </tr>\n    <tr>\n      <th>unique</th>\n      <td>NaN</td>\n      <td>NaN</td>\n      <td>NaN</td>\n      <td>NaN</td>\n      <td>NaN</td>\n      <td>37</td>\n      <td>2</td>\n      <td>2</td>\n      <td>1292</td>\n      <td>1032</td>\n      <td>1036</td>\n      <td>190</td>\n      <td>4069</td>\n    </tr>\n    <tr>\n      <th>top</th>\n      <td>NaN</td>\n      <td>NaN</td>\n      <td>NaN</td>\n      <td>NaN</td>\n      <td>NaN</td>\n      <td>-</td>\n      <td>acept</td>\n      <td>not furnished</td>\n      <td>R$0</td>\n      <td>R$15,000</td>\n      <td>R$0</td>\n      <td>R$23</td>\n      <td>R$2,555</td>\n    </tr>\n    <tr>\n      <th>freq</th>\n      <td>NaN</td>\n      <td>NaN</td>\n      <td>NaN</td>\n      <td>NaN</td>\n      <td>NaN</td>\n      <td>1555</td>\n      <td>4666</td>\n      <td>4498</td>\n      <td>1291</td>\n      <td>155</td>\n      <td>1053</td>\n      <td>163</td>\n      <td>35</td>\n    </tr>\n    <tr>\n      <th>mean</th>\n      <td>0.863322</td>\n      <td>151.143914</td>\n      <td>2.492599</td>\n      <td>2.341612</td>\n      <td>1.756250</td>\n      <td>NaN</td>\n      <td>NaN</td>\n      <td>NaN</td>\n      <td>NaN</td>\n      <td>NaN</td>\n      <td>NaN</td>\n      <td>NaN</td>\n      <td>NaN</td>\n    </tr>\n    <tr>\n      <th>std</th>\n      <td>0.343535</td>\n      <td>375.559485</td>\n      <td>1.129665</td>\n      <td>1.438860</td>\n      <td>1.611909</td>\n      <td>NaN</td>\n      <td>NaN</td>\n      <td>NaN</td>\n      <td>NaN</td>\n      <td>NaN</td>\n      <td>NaN</td>\n      <td>NaN</td>\n      <td>NaN</td>\n    </tr>\n    <tr>\n      <th>min</th>\n      <td>0.000000</td>\n      <td>10.000000</td>\n      <td>1.000000</td>\n      <td>1.000000</td>\n      <td>0.000000</td>\n      <td>NaN</td>\n      <td>NaN</td>\n      <td>NaN</td>\n      <td>NaN</td>\n      <td>NaN</td>\n      <td>NaN</td>\n      <td>NaN</td>\n      <td>NaN</td>\n    </tr>\n    <tr>\n      <th>25%</th>\n      <td>1.000000</td>\n      <td>58.000000</td>\n      <td>2.000000</td>\n      <td>1.000000</td>\n      <td>1.000000</td>\n      <td>NaN</td>\n      <td>NaN</td>\n      <td>NaN</td>\n      <td>NaN</td>\n      <td>NaN</td>\n      <td>NaN</td>\n      <td>NaN</td>\n      <td>NaN</td>\n    </tr>\n    <tr>\n      <th>50%</th>\n      <td>1.000000</td>\n      <td>100.000000</td>\n      <td>3.000000</td>\n      <td>2.000000</td>\n      <td>1.000000</td>\n      <td>NaN</td>\n      <td>NaN</td>\n      <td>NaN</td>\n      <td>NaN</td>\n      <td>NaN</td>\n      <td>NaN</td>\n      <td>NaN</td>\n      <td>NaN</td>\n    </tr>\n    <tr>\n      <th>75%</th>\n      <td>1.000000</td>\n      <td>200.000000</td>\n      <td>3.000000</td>\n      <td>3.000000</td>\n      <td>2.000000</td>\n      <td>NaN</td>\n      <td>NaN</td>\n      <td>NaN</td>\n      <td>NaN</td>\n      <td>NaN</td>\n      <td>NaN</td>\n      <td>NaN</td>\n      <td>NaN</td>\n    </tr>\n    <tr>\n      <th>max</th>\n      <td>1.000000</td>\n      <td>24606.000000</td>\n      <td>10.000000</td>\n      <td>10.000000</td>\n      <td>12.000000</td>\n      <td>NaN</td>\n      <td>NaN</td>\n      <td>NaN</td>\n      <td>NaN</td>\n      <td>NaN</td>\n      <td>NaN</td>\n      <td>NaN</td>\n      <td>NaN</td>\n    </tr>\n  </tbody>\n</table>\n</div>"
     },
     "metadata": {},
     "execution_count": 5
    }
   ],
   "source": [
    "dados_alugueis.describe(include='all')"
   ]
  },
  {
   "cell_type": "code",
   "execution_count": 1,
   "metadata": {},
   "outputs": [],
   "source": [
    "# Criando cópia dos dados e renomeando as colunas para nomes mais atraentes e legíveis usando o atributo\n",
    "# ou o dicionário com as novas colunas usando o método rename"
   ]
  },
  {
   "cell_type": "code",
   "execution_count": null,
   "metadata": {},
   "outputs": [],
   "source": [
    "# Selecionando somente as colunas com dados do typo object para usar o mapapply"
   ]
  },
  {
   "cell_type": "code",
   "execution_count": null,
   "metadata": {},
   "outputs": [],
   "source": [
    "# \"Automatizando\" a seleção dos dados do tipo object"
   ]
  }
 ]
}