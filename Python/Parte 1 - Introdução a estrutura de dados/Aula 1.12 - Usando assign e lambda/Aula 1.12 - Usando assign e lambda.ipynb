{
 "metadata": {
  "language_info": {
   "codemirror_mode": {
    "name": "ipython",
    "version": 3
   },
   "file_extension": ".py",
   "mimetype": "text/x-python",
   "name": "python",
   "nbconvert_exporter": "python",
   "pygments_lexer": "ipython3",
   "version": "3.8.5-final"
  },
  "orig_nbformat": 2,
  "kernelspec": {
   "name": "python3",
   "display_name": "Python 3.8.5 64-bit (conda)",
   "metadata": {
    "interpreter": {
     "hash": "b3ba2566441a7c06988d0923437866b63cedc61552a5af99d1f4fb67d367b25f"
    }
   }
  }
 },
 "nbformat": 4,
 "nbformat_minor": 2,
 "cells": [
  {
   "cell_type": "code",
   "execution_count": 5,
   "metadata": {},
   "outputs": [],
   "source": [
    "# Adicionando o path para incluir o pacote de funções\n",
    "import sys\n",
    "sys.path.append(\"../../\")"
   ]
  },
  {
   "cell_type": "code",
   "execution_count": 6,
   "metadata": {},
   "outputs": [],
   "source": [
    "# Importando os pacotes\n",
    "import pandas as pd\n",
    "import numpy as np\n",
    "from funcoes_curso.funcoes import importar_base"
   ]
  },
  {
   "cell_type": "code",
   "execution_count": 7,
   "metadata": {},
   "outputs": [],
   "source": [
    "# Selecionando os dados da base houses_to_rent.csv\n",
    "base_alugueis = importar_base(\"houses_to_rent.csv\")"
   ]
  },
  {
   "cell_type": "code",
   "execution_count": 8,
   "metadata": {},
   "outputs": [],
   "source": [
    "base_copia = base_alugueis.copy(deep = True)"
   ]
  },
  {
   "cell_type": "code",
   "execution_count": 9,
   "metadata": {},
   "outputs": [],
   "source": [
    "# Selecionando os dados via loc, somando e adicionando o resultado via assign ou \"lista\"\n",
    "base_copia[\"soma_doida\"] = base_copia.rooms + base_copia.bathroom"
   ]
  },
  {
   "cell_type": "code",
   "execution_count": 10,
   "metadata": {},
   "outputs": [
    {
     "output_type": "execute_result",
     "data": {
      "text/plain": [
       "   rooms  bathroom  soma_doida\n",
       "0      3         3           6\n",
       "1      2         1           3\n",
       "2      5         5          10\n",
       "3      2         2           4\n",
       "4      1         1           2\n",
       "5      1         1           2"
      ],
      "text/html": "<div>\n<style scoped>\n    .dataframe tbody tr th:only-of-type {\n        vertical-align: middle;\n    }\n\n    .dataframe tbody tr th {\n        vertical-align: top;\n    }\n\n    .dataframe thead th {\n        text-align: right;\n    }\n</style>\n<table border=\"1\" class=\"dataframe\">\n  <thead>\n    <tr style=\"text-align: right;\">\n      <th></th>\n      <th>rooms</th>\n      <th>bathroom</th>\n      <th>soma_doida</th>\n    </tr>\n  </thead>\n  <tbody>\n    <tr>\n      <th>0</th>\n      <td>3</td>\n      <td>3</td>\n      <td>6</td>\n    </tr>\n    <tr>\n      <th>1</th>\n      <td>2</td>\n      <td>1</td>\n      <td>3</td>\n    </tr>\n    <tr>\n      <th>2</th>\n      <td>5</td>\n      <td>5</td>\n      <td>10</td>\n    </tr>\n    <tr>\n      <th>3</th>\n      <td>2</td>\n      <td>2</td>\n      <td>4</td>\n    </tr>\n    <tr>\n      <th>4</th>\n      <td>1</td>\n      <td>1</td>\n      <td>2</td>\n    </tr>\n    <tr>\n      <th>5</th>\n      <td>1</td>\n      <td>1</td>\n      <td>2</td>\n    </tr>\n  </tbody>\n</table>\n</div>"
     },
     "metadata": {},
     "execution_count": 10
    }
   ],
   "source": [
    "colunas = [\"rooms\", \"bathroom\", \"soma_doida\"]\n",
    "\n",
    "base_copia.loc[:5, colunas]"
   ]
  },
  {
   "cell_type": "code",
   "execution_count": 27,
   "metadata": {},
   "outputs": [],
   "source": [
    "# Exemplo simples de lambda em assign"
   ]
  },
  {
   "cell_type": "code",
   "execution_count": 13,
   "metadata": {},
   "outputs": [
    {
     "output_type": "execute_result",
     "data": {
      "text/plain": [
       "   Unnamed: 0  city  area  rooms  bathroom  parking spaces floor     animal  \\\n",
       "0           0     1   240      3         3               4     -      acept   \n",
       "1           1     0    64      2         1               1    10      acept   \n",
       "2           2     1   443      5         5               4     3      acept   \n",
       "3           3     1    73      2         2               1    12      acept   \n",
       "4           4     1    19      1         1               0     -  not acept   \n",
       "\n",
       "       furniture      hoa rent amount property tax fire insurance     total  \\\n",
       "0      furnished      R$0     R$8,000      R$1,000          R$121   R$9,121   \n",
       "1  not furnished    R$540       R$820        R$122           R$11   R$1,493   \n",
       "2      furnished  R$4,172     R$7,000      R$1,417           R$89  R$12,680   \n",
       "3  not furnished    R$700     R$1,250        R$150           R$16   R$2,116   \n",
       "4  not furnished      R$0     R$1,200         R$41           R$16   R$1,257   \n",
       "\n",
       "   soma_doida  \n",
       "0           6  \n",
       "1           3  \n",
       "2          10  \n",
       "3           4  \n",
       "4           2  "
      ],
      "text/html": "<div>\n<style scoped>\n    .dataframe tbody tr th:only-of-type {\n        vertical-align: middle;\n    }\n\n    .dataframe tbody tr th {\n        vertical-align: top;\n    }\n\n    .dataframe thead th {\n        text-align: right;\n    }\n</style>\n<table border=\"1\" class=\"dataframe\">\n  <thead>\n    <tr style=\"text-align: right;\">\n      <th></th>\n      <th>Unnamed: 0</th>\n      <th>city</th>\n      <th>area</th>\n      <th>rooms</th>\n      <th>bathroom</th>\n      <th>parking spaces</th>\n      <th>floor</th>\n      <th>animal</th>\n      <th>furniture</th>\n      <th>hoa</th>\n      <th>rent amount</th>\n      <th>property tax</th>\n      <th>fire insurance</th>\n      <th>total</th>\n      <th>soma_doida</th>\n    </tr>\n  </thead>\n  <tbody>\n    <tr>\n      <th>0</th>\n      <td>0</td>\n      <td>1</td>\n      <td>240</td>\n      <td>3</td>\n      <td>3</td>\n      <td>4</td>\n      <td>-</td>\n      <td>acept</td>\n      <td>furnished</td>\n      <td>R$0</td>\n      <td>R$8,000</td>\n      <td>R$1,000</td>\n      <td>R$121</td>\n      <td>R$9,121</td>\n      <td>6</td>\n    </tr>\n    <tr>\n      <th>1</th>\n      <td>1</td>\n      <td>0</td>\n      <td>64</td>\n      <td>2</td>\n      <td>1</td>\n      <td>1</td>\n      <td>10</td>\n      <td>acept</td>\n      <td>not furnished</td>\n      <td>R$540</td>\n      <td>R$820</td>\n      <td>R$122</td>\n      <td>R$11</td>\n      <td>R$1,493</td>\n      <td>3</td>\n    </tr>\n    <tr>\n      <th>2</th>\n      <td>2</td>\n      <td>1</td>\n      <td>443</td>\n      <td>5</td>\n      <td>5</td>\n      <td>4</td>\n      <td>3</td>\n      <td>acept</td>\n      <td>furnished</td>\n      <td>R$4,172</td>\n      <td>R$7,000</td>\n      <td>R$1,417</td>\n      <td>R$89</td>\n      <td>R$12,680</td>\n      <td>10</td>\n    </tr>\n    <tr>\n      <th>3</th>\n      <td>3</td>\n      <td>1</td>\n      <td>73</td>\n      <td>2</td>\n      <td>2</td>\n      <td>1</td>\n      <td>12</td>\n      <td>acept</td>\n      <td>not furnished</td>\n      <td>R$700</td>\n      <td>R$1,250</td>\n      <td>R$150</td>\n      <td>R$16</td>\n      <td>R$2,116</td>\n      <td>4</td>\n    </tr>\n    <tr>\n      <th>4</th>\n      <td>4</td>\n      <td>1</td>\n      <td>19</td>\n      <td>1</td>\n      <td>1</td>\n      <td>0</td>\n      <td>-</td>\n      <td>not acept</td>\n      <td>not furnished</td>\n      <td>R$0</td>\n      <td>R$1,200</td>\n      <td>R$41</td>\n      <td>R$16</td>\n      <td>R$1,257</td>\n      <td>2</td>\n    </tr>\n  </tbody>\n</table>\n</div>"
     },
     "metadata": {},
     "execution_count": 13
    }
   ],
   "source": [
    "base_copia.head()"
   ]
  },
  {
   "cell_type": "code",
   "execution_count": 15,
   "metadata": {},
   "outputs": [],
   "source": [
    "# Função para passar para o assign\n",
    "def funcao_multiplicacao(df):\n",
    "    return df.area * df.rooms"
   ]
  },
  {
   "cell_type": "code",
   "execution_count": 17,
   "metadata": {},
   "outputs": [
    {
     "output_type": "execute_result",
     "data": {
      "text/plain": [
       "   area  rooms  multiplicacao\n",
       "0   240      3            720\n",
       "1    64      2            128\n",
       "2   443      5           2215\n",
       "3    73      2            146\n",
       "4    19      1             19\n",
       "5    13      1             13"
      ],
      "text/html": "<div>\n<style scoped>\n    .dataframe tbody tr th:only-of-type {\n        vertical-align: middle;\n    }\n\n    .dataframe tbody tr th {\n        vertical-align: top;\n    }\n\n    .dataframe thead th {\n        text-align: right;\n    }\n</style>\n<table border=\"1\" class=\"dataframe\">\n  <thead>\n    <tr style=\"text-align: right;\">\n      <th></th>\n      <th>area</th>\n      <th>rooms</th>\n      <th>multiplicacao</th>\n    </tr>\n  </thead>\n  <tbody>\n    <tr>\n      <th>0</th>\n      <td>240</td>\n      <td>3</td>\n      <td>720</td>\n    </tr>\n    <tr>\n      <th>1</th>\n      <td>64</td>\n      <td>2</td>\n      <td>128</td>\n    </tr>\n    <tr>\n      <th>2</th>\n      <td>443</td>\n      <td>5</td>\n      <td>2215</td>\n    </tr>\n    <tr>\n      <th>3</th>\n      <td>73</td>\n      <td>2</td>\n      <td>146</td>\n    </tr>\n    <tr>\n      <th>4</th>\n      <td>19</td>\n      <td>1</td>\n      <td>19</td>\n    </tr>\n    <tr>\n      <th>5</th>\n      <td>13</td>\n      <td>1</td>\n      <td>13</td>\n    </tr>\n  </tbody>\n</table>\n</div>"
     },
     "metadata": {},
     "execution_count": 17
    }
   ],
   "source": [
    "base_copia.assign(multiplicacao = funcao_multiplicacao).loc[:5, [\"area\", \"rooms\", \"multiplicacao\"]]"
   ]
  },
  {
   "cell_type": "code",
   "execution_count": 20,
   "metadata": {},
   "outputs": [
    {
     "output_type": "execute_result",
     "data": {
      "text/plain": [
       "   Unnamed: 0  city  area  rooms  bathroom  parking spaces floor     animal  \\\n",
       "0           0     1   240      3         3               4     -      acept   \n",
       "1           1     0    64      2         1               1    10      acept   \n",
       "2           2     1   443      5         5               4     3      acept   \n",
       "3           3     1    73      2         2               1    12      acept   \n",
       "4           4     1    19      1         1               0     -  not acept   \n",
       "5           5     1    13      1         1               0     2      acept   \n",
       "\n",
       "       furniture      hoa rent amount property tax fire insurance     total  \\\n",
       "0      furnished      R$0     R$8,000      R$1,000          R$121   R$9,121   \n",
       "1  not furnished    R$540       R$820        R$122           R$11   R$1,493   \n",
       "2      furnished  R$4,172     R$7,000      R$1,417           R$89  R$12,680   \n",
       "3  not furnished    R$700     R$1,250        R$150           R$16   R$2,116   \n",
       "4  not furnished      R$0     R$1,200         R$41           R$16   R$1,257   \n",
       "5  not furnished      R$0     R$2,200         R$42           R$28   R$2,270   \n",
       "\n",
       "   soma_doida  soma_lambda  multiplicacao  \n",
       "0           6            6            720  \n",
       "1           3            3            128  \n",
       "2          10           10           2215  \n",
       "3           4            4            146  \n",
       "4           2            2             19  \n",
       "5           2            2             13  "
      ],
      "text/html": "<div>\n<style scoped>\n    .dataframe tbody tr th:only-of-type {\n        vertical-align: middle;\n    }\n\n    .dataframe tbody tr th {\n        vertical-align: top;\n    }\n\n    .dataframe thead th {\n        text-align: right;\n    }\n</style>\n<table border=\"1\" class=\"dataframe\">\n  <thead>\n    <tr style=\"text-align: right;\">\n      <th></th>\n      <th>Unnamed: 0</th>\n      <th>city</th>\n      <th>area</th>\n      <th>rooms</th>\n      <th>bathroom</th>\n      <th>parking spaces</th>\n      <th>floor</th>\n      <th>animal</th>\n      <th>furniture</th>\n      <th>hoa</th>\n      <th>rent amount</th>\n      <th>property tax</th>\n      <th>fire insurance</th>\n      <th>total</th>\n      <th>soma_doida</th>\n      <th>soma_lambda</th>\n      <th>multiplicacao</th>\n    </tr>\n  </thead>\n  <tbody>\n    <tr>\n      <th>0</th>\n      <td>0</td>\n      <td>1</td>\n      <td>240</td>\n      <td>3</td>\n      <td>3</td>\n      <td>4</td>\n      <td>-</td>\n      <td>acept</td>\n      <td>furnished</td>\n      <td>R$0</td>\n      <td>R$8,000</td>\n      <td>R$1,000</td>\n      <td>R$121</td>\n      <td>R$9,121</td>\n      <td>6</td>\n      <td>6</td>\n      <td>720</td>\n    </tr>\n    <tr>\n      <th>1</th>\n      <td>1</td>\n      <td>0</td>\n      <td>64</td>\n      <td>2</td>\n      <td>1</td>\n      <td>1</td>\n      <td>10</td>\n      <td>acept</td>\n      <td>not furnished</td>\n      <td>R$540</td>\n      <td>R$820</td>\n      <td>R$122</td>\n      <td>R$11</td>\n      <td>R$1,493</td>\n      <td>3</td>\n      <td>3</td>\n      <td>128</td>\n    </tr>\n    <tr>\n      <th>2</th>\n      <td>2</td>\n      <td>1</td>\n      <td>443</td>\n      <td>5</td>\n      <td>5</td>\n      <td>4</td>\n      <td>3</td>\n      <td>acept</td>\n      <td>furnished</td>\n      <td>R$4,172</td>\n      <td>R$7,000</td>\n      <td>R$1,417</td>\n      <td>R$89</td>\n      <td>R$12,680</td>\n      <td>10</td>\n      <td>10</td>\n      <td>2215</td>\n    </tr>\n    <tr>\n      <th>3</th>\n      <td>3</td>\n      <td>1</td>\n      <td>73</td>\n      <td>2</td>\n      <td>2</td>\n      <td>1</td>\n      <td>12</td>\n      <td>acept</td>\n      <td>not furnished</td>\n      <td>R$700</td>\n      <td>R$1,250</td>\n      <td>R$150</td>\n      <td>R$16</td>\n      <td>R$2,116</td>\n      <td>4</td>\n      <td>4</td>\n      <td>146</td>\n    </tr>\n    <tr>\n      <th>4</th>\n      <td>4</td>\n      <td>1</td>\n      <td>19</td>\n      <td>1</td>\n      <td>1</td>\n      <td>0</td>\n      <td>-</td>\n      <td>not acept</td>\n      <td>not furnished</td>\n      <td>R$0</td>\n      <td>R$1,200</td>\n      <td>R$41</td>\n      <td>R$16</td>\n      <td>R$1,257</td>\n      <td>2</td>\n      <td>2</td>\n      <td>19</td>\n    </tr>\n    <tr>\n      <th>5</th>\n      <td>5</td>\n      <td>1</td>\n      <td>13</td>\n      <td>1</td>\n      <td>1</td>\n      <td>0</td>\n      <td>2</td>\n      <td>acept</td>\n      <td>not furnished</td>\n      <td>R$0</td>\n      <td>R$2,200</td>\n      <td>R$42</td>\n      <td>R$28</td>\n      <td>R$2,270</td>\n      <td>2</td>\n      <td>2</td>\n      <td>13</td>\n    </tr>\n  </tbody>\n</table>\n</div>"
     },
     "metadata": {},
     "execution_count": 20
    }
   ],
   "source": [
    "# Utulizando um lambda\n",
    "base_copia.assign(soma_lambda = lambda x: x.rooms + x.bathroom,\n",
    "multiplicacao = funcao_multiplicacao).loc[:5,:]"
   ]
  },
  {
   "cell_type": "code",
   "execution_count": 12,
   "metadata": {},
   "outputs": [
    {
     "output_type": "stream",
     "name": "stdout",
     "text": [
      "Help on method assign in module pandas.core.frame:\n\nassign(**kwargs) -> 'DataFrame' method of pandas.core.frame.DataFrame instance\n    Assign new columns to a DataFrame.\n    \n    Returns a new object with all original columns in addition to new ones.\n    Existing columns that are re-assigned will be overwritten.\n    \n    Parameters\n    ----------\n    **kwargs : dict of {str: callable or Series}\n        The column names are keywords. If the values are\n        callable, they are computed on the DataFrame and\n        assigned to the new columns. The callable must not\n        change input DataFrame (though pandas doesn't check it).\n        If the values are not callable, (e.g. a Series, scalar, or array),\n        they are simply assigned.\n    \n    Returns\n    -------\n    DataFrame\n        A new DataFrame with the new columns in addition to\n        all the existing columns.\n    \n    Notes\n    -----\n    Assigning multiple columns within the same ``assign`` is possible.\n    Later items in '\\*\\*kwargs' may refer to newly created or modified\n    columns in 'df'; items are computed and assigned into 'df' in order.\n    \n    .. versionchanged:: 0.23.0\n    \n       Keyword argument order is maintained.\n    \n    Examples\n    --------\n    >>> df = pd.DataFrame({'temp_c': [17.0, 25.0]},\n    ...                   index=['Portland', 'Berkeley'])\n    >>> df\n              temp_c\n    Portland    17.0\n    Berkeley    25.0\n    \n    Where the value is a callable, evaluated on `df`:\n    \n    >>> df.assign(temp_f=lambda x: x.temp_c * 9 / 5 + 32)\n              temp_c  temp_f\n    Portland    17.0    62.6\n    Berkeley    25.0    77.0\n    \n    Alternatively, the same behavior can be achieved by directly\n    referencing an existing Series or sequence:\n    \n    >>> df.assign(temp_f=df['temp_c'] * 9 / 5 + 32)\n              temp_c  temp_f\n    Portland    17.0    62.6\n    Berkeley    25.0    77.0\n    \n    You can create multiple columns within the same assign where one\n    of the columns depends on another one defined within the same assign:\n    \n    >>> df.assign(temp_f=lambda x: x['temp_c'] * 9 / 5 + 32,\n    ...           temp_k=lambda x: (x['temp_f'] +  459.67) * 5 / 9)\n              temp_c  temp_f  temp_k\n    Portland    17.0    62.6  290.15\n    Berkeley    25.0    77.0  298.15\n\n"
     ]
    }
   ],
   "source": [
    "help(base_copia.assign)"
   ]
  }
 ]
}