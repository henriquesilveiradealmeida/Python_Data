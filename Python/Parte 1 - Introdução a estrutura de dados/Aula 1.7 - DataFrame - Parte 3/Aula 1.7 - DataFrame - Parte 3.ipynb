{
 "metadata": {
  "language_info": {
   "codemirror_mode": {
    "name": "ipython",
    "version": 3
   },
   "file_extension": ".py",
   "mimetype": "text/x-python",
   "name": "python",
   "nbconvert_exporter": "python",
   "pygments_lexer": "ipython3",
   "version": "3.8.3-final"
  },
  "orig_nbformat": 2,
  "kernelspec": {
   "name": "python_defaultSpec_1597702794511",
   "display_name": "Python 3.8.3 64-bit ('base': conda)"
  }
 },
 "nbformat": 4,
 "nbformat_minor": 2,
 "cells": [
  {
   "cell_type": "code",
   "execution_count": 21,
   "metadata": {},
   "outputs": [],
   "source": [
    "#Importando as bibliotecas\n",
    "import pandas as pd \n",
    "import numpy as np"
   ]
  },
  {
   "cell_type": "code",
   "execution_count": 22,
   "metadata": {},
   "outputs": [],
   "source": [
    "# Abrindo o arquivo da base de aluguel\n",
    "import os\n",
    "from pathlib import Path\n",
    "p = Path(os.getcwd())\n",
    "pasta_bases = str(p.parent.parent) + \"\\\\bases\\\\\"\n",
    "alugueis = pd.read_csv(pasta_bases + \"alugueis\\\\houses_to_rent.csv\")"
   ]
  },
  {
   "cell_type": "code",
   "execution_count": 23,
   "metadata": {},
   "outputs": [
    {
     "output_type": "execute_result",
     "data": {
      "text/plain": "   Unnamed: 0  city  area  rooms  bathroom  parking spaces floor     animal  \\\n0           0     1   240      3         3               4     -      acept   \n1           1     0    64      2         1               1    10      acept   \n2           2     1   443      5         5               4     3      acept   \n3           3     1    73      2         2               1    12      acept   \n4           4     1    19      1         1               0     -  not acept   \n\n       furniture      hoa rent amount property tax fire insurance     total  \n0      furnished      R$0     R$8,000      R$1,000          R$121   R$9,121  \n1  not furnished    R$540       R$820        R$122           R$11   R$1,493  \n2      furnished  R$4,172     R$7,000      R$1,417           R$89  R$12,680  \n3  not furnished    R$700     R$1,250        R$150           R$16   R$2,116  \n4  not furnished      R$0     R$1,200         R$41           R$16   R$1,257  ",
      "text/html": "<div>\n<style scoped>\n    .dataframe tbody tr th:only-of-type {\n        vertical-align: middle;\n    }\n\n    .dataframe tbody tr th {\n        vertical-align: top;\n    }\n\n    .dataframe thead th {\n        text-align: right;\n    }\n</style>\n<table border=\"1\" class=\"dataframe\">\n  <thead>\n    <tr style=\"text-align: right;\">\n      <th></th>\n      <th>Unnamed: 0</th>\n      <th>city</th>\n      <th>area</th>\n      <th>rooms</th>\n      <th>bathroom</th>\n      <th>parking spaces</th>\n      <th>floor</th>\n      <th>animal</th>\n      <th>furniture</th>\n      <th>hoa</th>\n      <th>rent amount</th>\n      <th>property tax</th>\n      <th>fire insurance</th>\n      <th>total</th>\n    </tr>\n  </thead>\n  <tbody>\n    <tr>\n      <th>0</th>\n      <td>0</td>\n      <td>1</td>\n      <td>240</td>\n      <td>3</td>\n      <td>3</td>\n      <td>4</td>\n      <td>-</td>\n      <td>acept</td>\n      <td>furnished</td>\n      <td>R$0</td>\n      <td>R$8,000</td>\n      <td>R$1,000</td>\n      <td>R$121</td>\n      <td>R$9,121</td>\n    </tr>\n    <tr>\n      <th>1</th>\n      <td>1</td>\n      <td>0</td>\n      <td>64</td>\n      <td>2</td>\n      <td>1</td>\n      <td>1</td>\n      <td>10</td>\n      <td>acept</td>\n      <td>not furnished</td>\n      <td>R$540</td>\n      <td>R$820</td>\n      <td>R$122</td>\n      <td>R$11</td>\n      <td>R$1,493</td>\n    </tr>\n    <tr>\n      <th>2</th>\n      <td>2</td>\n      <td>1</td>\n      <td>443</td>\n      <td>5</td>\n      <td>5</td>\n      <td>4</td>\n      <td>3</td>\n      <td>acept</td>\n      <td>furnished</td>\n      <td>R$4,172</td>\n      <td>R$7,000</td>\n      <td>R$1,417</td>\n      <td>R$89</td>\n      <td>R$12,680</td>\n    </tr>\n    <tr>\n      <th>3</th>\n      <td>3</td>\n      <td>1</td>\n      <td>73</td>\n      <td>2</td>\n      <td>2</td>\n      <td>1</td>\n      <td>12</td>\n      <td>acept</td>\n      <td>not furnished</td>\n      <td>R$700</td>\n      <td>R$1,250</td>\n      <td>R$150</td>\n      <td>R$16</td>\n      <td>R$2,116</td>\n    </tr>\n    <tr>\n      <th>4</th>\n      <td>4</td>\n      <td>1</td>\n      <td>19</td>\n      <td>1</td>\n      <td>1</td>\n      <td>0</td>\n      <td>-</td>\n      <td>not acept</td>\n      <td>not furnished</td>\n      <td>R$0</td>\n      <td>R$1,200</td>\n      <td>R$41</td>\n      <td>R$16</td>\n      <td>R$1,257</td>\n    </tr>\n  </tbody>\n</table>\n</div>"
     },
     "metadata": {},
     "execution_count": 23
    }
   ],
   "source": [
    "alugueis.head()"
   ]
  },
  {
   "cell_type": "code",
   "execution_count": 36,
   "metadata": {},
   "outputs": [
    {
     "output_type": "execute_result",
     "data": {
      "text/plain": "       hoa rent amount property tax\n0        0        8000         1000\n1      540         820          122\n2     4172        7000         1417\n3      700        1250          150\n4        0        1200           41\n...    ...         ...          ...\n6075   420        1150            0\n6076   768        2900           63\n6077   250         950           42\n6078     0        3500          250\n6079   489        1900            0\n\n[6080 rows x 3 columns]",
      "text/html": "<div>\n<style scoped>\n    .dataframe tbody tr th:only-of-type {\n        vertical-align: middle;\n    }\n\n    .dataframe tbody tr th {\n        vertical-align: top;\n    }\n\n    .dataframe thead th {\n        text-align: right;\n    }\n</style>\n<table border=\"1\" class=\"dataframe\">\n  <thead>\n    <tr style=\"text-align: right;\">\n      <th></th>\n      <th>hoa</th>\n      <th>rent amount</th>\n      <th>property tax</th>\n    </tr>\n  </thead>\n  <tbody>\n    <tr>\n      <th>0</th>\n      <td>0</td>\n      <td>8000</td>\n      <td>1000</td>\n    </tr>\n    <tr>\n      <th>1</th>\n      <td>540</td>\n      <td>820</td>\n      <td>122</td>\n    </tr>\n    <tr>\n      <th>2</th>\n      <td>4172</td>\n      <td>7000</td>\n      <td>1417</td>\n    </tr>\n    <tr>\n      <th>3</th>\n      <td>700</td>\n      <td>1250</td>\n      <td>150</td>\n    </tr>\n    <tr>\n      <th>4</th>\n      <td>0</td>\n      <td>1200</td>\n      <td>41</td>\n    </tr>\n    <tr>\n      <th>...</th>\n      <td>...</td>\n      <td>...</td>\n      <td>...</td>\n    </tr>\n    <tr>\n      <th>6075</th>\n      <td>420</td>\n      <td>1150</td>\n      <td>0</td>\n    </tr>\n    <tr>\n      <th>6076</th>\n      <td>768</td>\n      <td>2900</td>\n      <td>63</td>\n    </tr>\n    <tr>\n      <th>6077</th>\n      <td>250</td>\n      <td>950</td>\n      <td>42</td>\n    </tr>\n    <tr>\n      <th>6078</th>\n      <td>0</td>\n      <td>3500</td>\n      <td>250</td>\n    </tr>\n    <tr>\n      <th>6079</th>\n      <td>489</td>\n      <td>1900</td>\n      <td>0</td>\n    </tr>\n  </tbody>\n</table>\n<p>6080 rows × 3 columns</p>\n</div>"
     },
     "metadata": {},
     "execution_count": 36
    }
   ],
   "source": [
    "#alugueis[\"hoa_tratado\"] = alugueis[\"hoa\"].apply(lambda x: x.replace(\"R$\", \"\").replace(\",\", \"\"))\n",
    "#alugueis[[\"hoa\", \"rent amount\", \"property tax\"]].applymap(lambda x: x.replace(\"R$\", \"\").replace(\",\", \"\"))\n"
   ]
  },
  {
   "cell_type": "code",
   "execution_count": 37,
   "metadata": {},
   "outputs": [],
   "source": [
    "del alugueis[\"hoa\"]"
   ]
  },
  {
   "cell_type": "code",
   "execution_count": 38,
   "metadata": {},
   "outputs": [
    {
     "output_type": "execute_result",
     "data": {
      "text/plain": "   Unnamed: 0  city  area  rooms  bathroom  parking spaces floor     animal  \\\n0           0     1   240      3         3               4     -      acept   \n1           1     0    64      2         1               1    10      acept   \n2           2     1   443      5         5               4     3      acept   \n3           3     1    73      2         2               1    12      acept   \n4           4     1    19      1         1               0     -  not acept   \n\n       furniture rent amount property tax fire insurance     total hoa_tratado  \n0      furnished     R$8,000      R$1,000          R$121   R$9,121           0  \n1  not furnished       R$820        R$122           R$11   R$1,493         540  \n2      furnished     R$7,000      R$1,417           R$89  R$12,680        4172  \n3  not furnished     R$1,250        R$150           R$16   R$2,116         700  \n4  not furnished     R$1,200         R$41           R$16   R$1,257           0  ",
      "text/html": "<div>\n<style scoped>\n    .dataframe tbody tr th:only-of-type {\n        vertical-align: middle;\n    }\n\n    .dataframe tbody tr th {\n        vertical-align: top;\n    }\n\n    .dataframe thead th {\n        text-align: right;\n    }\n</style>\n<table border=\"1\" class=\"dataframe\">\n  <thead>\n    <tr style=\"text-align: right;\">\n      <th></th>\n      <th>Unnamed: 0</th>\n      <th>city</th>\n      <th>area</th>\n      <th>rooms</th>\n      <th>bathroom</th>\n      <th>parking spaces</th>\n      <th>floor</th>\n      <th>animal</th>\n      <th>furniture</th>\n      <th>rent amount</th>\n      <th>property tax</th>\n      <th>fire insurance</th>\n      <th>total</th>\n      <th>hoa_tratado</th>\n    </tr>\n  </thead>\n  <tbody>\n    <tr>\n      <th>0</th>\n      <td>0</td>\n      <td>1</td>\n      <td>240</td>\n      <td>3</td>\n      <td>3</td>\n      <td>4</td>\n      <td>-</td>\n      <td>acept</td>\n      <td>furnished</td>\n      <td>R$8,000</td>\n      <td>R$1,000</td>\n      <td>R$121</td>\n      <td>R$9,121</td>\n      <td>0</td>\n    </tr>\n    <tr>\n      <th>1</th>\n      <td>1</td>\n      <td>0</td>\n      <td>64</td>\n      <td>2</td>\n      <td>1</td>\n      <td>1</td>\n      <td>10</td>\n      <td>acept</td>\n      <td>not furnished</td>\n      <td>R$820</td>\n      <td>R$122</td>\n      <td>R$11</td>\n      <td>R$1,493</td>\n      <td>540</td>\n    </tr>\n    <tr>\n      <th>2</th>\n      <td>2</td>\n      <td>1</td>\n      <td>443</td>\n      <td>5</td>\n      <td>5</td>\n      <td>4</td>\n      <td>3</td>\n      <td>acept</td>\n      <td>furnished</td>\n      <td>R$7,000</td>\n      <td>R$1,417</td>\n      <td>R$89</td>\n      <td>R$12,680</td>\n      <td>4172</td>\n    </tr>\n    <tr>\n      <th>3</th>\n      <td>3</td>\n      <td>1</td>\n      <td>73</td>\n      <td>2</td>\n      <td>2</td>\n      <td>1</td>\n      <td>12</td>\n      <td>acept</td>\n      <td>not furnished</td>\n      <td>R$1,250</td>\n      <td>R$150</td>\n      <td>R$16</td>\n      <td>R$2,116</td>\n      <td>700</td>\n    </tr>\n    <tr>\n      <th>4</th>\n      <td>4</td>\n      <td>1</td>\n      <td>19</td>\n      <td>1</td>\n      <td>1</td>\n      <td>0</td>\n      <td>-</td>\n      <td>not acept</td>\n      <td>not furnished</td>\n      <td>R$1,200</td>\n      <td>R$41</td>\n      <td>R$16</td>\n      <td>R$1,257</td>\n      <td>0</td>\n    </tr>\n  </tbody>\n</table>\n</div>"
     },
     "metadata": {},
     "execution_count": 38
    }
   ],
   "source": [
    "alugueis.head()"
   ]
  }
 ]
}